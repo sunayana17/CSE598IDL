{
  "cells": [
    {
      "cell_type": "code",
      "execution_count": 1,
      "metadata": {
        "colab": {
          "base_uri": "https://localhost:8080/"
        },
        "id": "lM5C5G18xKv6",
        "outputId": "e18e99b3-c7d5-438d-ef36-a89e189b26fd"
      },
      "outputs": [
        {
          "output_type": "stream",
          "name": "stdout",
          "text": [
            "Looking in indexes: https://pypi.org/simple, https://us-python.pkg.dev/colab-wheels/public/simple/\n",
            "Collecting pennylane\n",
            "  Downloading PennyLane-0.26.0-py3-none-any.whl (1.0 MB)\n",
            "\u001b[K     |████████████████████████████████| 1.0 MB 4.2 MB/s \n",
            "\u001b[?25hRequirement already satisfied: numpy in /usr/local/lib/python3.7/dist-packages (from pennylane) (1.21.6)\n",
            "Collecting pennylane-lightning>=0.26\n",
            "  Downloading PennyLane_Lightning-0.26.1-cp37-cp37m-manylinux_2_17_x86_64.manylinux2014_x86_64.whl (13.7 MB)\n",
            "\u001b[K     |████████████████████████████████| 13.7 MB 27.4 MB/s \n",
            "\u001b[?25hCollecting semantic-version>=2.7\n",
            "  Downloading semantic_version-2.10.0-py2.py3-none-any.whl (15 kB)\n",
            "Requirement already satisfied: autograd in /usr/local/lib/python3.7/dist-packages (from pennylane) (1.5)\n",
            "Requirement already satisfied: cachetools in /usr/local/lib/python3.7/dist-packages (from pennylane) (4.2.4)\n",
            "Requirement already satisfied: scipy in /usr/local/lib/python3.7/dist-packages (from pennylane) (1.7.3)\n",
            "Collecting autoray>=0.3.1\n",
            "  Downloading autoray-0.5.1-py3-none-any.whl (37 kB)\n",
            "Requirement already satisfied: toml in /usr/local/lib/python3.7/dist-packages (from pennylane) (0.10.2)\n",
            "Requirement already satisfied: networkx in /usr/local/lib/python3.7/dist-packages (from pennylane) (2.6.3)\n",
            "Requirement already satisfied: appdirs in /usr/local/lib/python3.7/dist-packages (from pennylane) (1.4.4)\n",
            "Collecting retworkx\n",
            "  Downloading retworkx-0.12.0-py3-none-any.whl (10 kB)\n",
            "Collecting ninja\n",
            "  Downloading ninja-1.10.2.4-py2.py3-none-manylinux_2_5_x86_64.manylinux1_x86_64.whl (120 kB)\n",
            "\u001b[K     |████████████████████████████████| 120 kB 48.0 MB/s \n",
            "\u001b[?25hRequirement already satisfied: future>=0.15.2 in /usr/local/lib/python3.7/dist-packages (from autograd->pennylane) (0.16.0)\n",
            "Collecting rustworkx==0.12.0\n",
            "  Downloading rustworkx-0.12.0-cp37-cp37m-manylinux_2_17_x86_64.manylinux2014_x86_64.whl (1.9 MB)\n",
            "\u001b[K     |████████████████████████████████| 1.9 MB 37.5 MB/s \n",
            "\u001b[?25hInstalling collected packages: rustworkx, ninja, semantic-version, retworkx, pennylane-lightning, autoray, pennylane\n",
            "Successfully installed autoray-0.5.1 ninja-1.10.2.4 pennylane-0.26.0 pennylane-lightning-0.26.1 retworkx-0.12.0 rustworkx-0.12.0 semantic-version-2.10.0\n"
          ]
        }
      ],
      "source": [
        "# This cell is added by sphinx-gallery\n",
        "# It can be customized to whatever you like\n",
        "%matplotlib inline\n",
        "%pip install pennylane"
      ]
    },
    {
      "cell_type": "code",
      "execution_count": 11,
      "metadata": {
        "id": "q7yU6BIrxKwF"
      },
      "outputs": [],
      "source": [
        "import pennylane as qml\n",
        "from pennylane import numpy as np\n",
        "from pennylane import AdamOptimizer\n",
        "from sklearn.preprocessing import MinMaxScaler\n",
        "import matplotlib.pyplot as plt\n",
        "import pandas as pd\n",
        "from sklearn import datasets"
      ]
    },
    {
      "cell_type": "code",
      "source": [
        "\n",
        "\n",
        "# load iris dataset\n",
        "iris = datasets.load_iris()\n",
        "# Since this is a bunch, create a dataframe\n",
        "iris_df=pd.DataFrame(iris.data)\n",
        "iris_df['class']=iris.target\n",
        "\n",
        "iris_df.columns=['sepal_len', 'sepal_wid', 'petal_len', 'petal_wid', 'class']\n",
        "iris_df = iris_df[iris_df['class'] != 2]\n",
        "iris_df.loc[iris_df[\"class\"] == 0, \"class\"] = 2\n",
        "iris_df.loc[iris_df[\"class\"] == 1, \"class\"] = -1\n",
        "iris_df.loc[iris_df[\"class\"] == 2, \"class\"] = 1\n",
        "\n",
        "Y = iris_df['class']\n",
        "X= iris_df.drop(columns=['class'])\n",
        "X= X.to_numpy()\n",
        "Y = Y.to_numpy()\n",
        "scaler = MinMaxScaler()\n",
        "normalized_data = scaler.fit_transform(X)\n",
        "X_norm = normalized_data* np.pi\n",
        "features = X_norm\n",
        "np.random.seed(0)\n",
        "num_data = len(Y)\n",
        "num_train = int(0.75 * num_data)\n",
        "index = np.random.permutation(range(num_data))\n",
        "feats_train = features[index[:num_train]]\n",
        "Y_train = Y[index[:num_train]]\n",
        "feats_val = features[index[num_train:]]\n",
        "Y_val = Y[index[num_train:]]\n",
        "\n",
        "# We need these later for plotting\n",
        "X_train = X[index[:num_train]]\n",
        "X_val = X[index[num_train:]]\n",
        "X_train.shape\n",
        "Y_train.shape"
      ],
      "metadata": {
        "colab": {
          "base_uri": "https://localhost:8080/"
        },
        "id": "5D20e6egEUOy",
        "outputId": "237e5001-3679-46be-e6f3-6bf7148143a6"
      },
      "execution_count": 12,
      "outputs": [
        {
          "output_type": "execute_result",
          "data": {
            "text/plain": [
              "(75,)"
            ]
          },
          "metadata": {},
          "execution_count": 12
        }
      ]
    },
    {
      "cell_type": "code",
      "execution_count": 13,
      "metadata": {
        "id": "LPusROLHxKwP"
      },
      "outputs": [],
      "source": [
        "def square_loss(labels, predictions):\n",
        "    loss = 0\n",
        "    for l, p in zip(labels, predictions):\n",
        "        loss = loss + (l - p) ** 2\n",
        "\n",
        "    loss = loss / len(labels)\n",
        "    return loss\n",
        "\n",
        "def accuracy(labels, predictions):\n",
        "\n",
        "    loss = 0\n",
        "    for l, p in zip(labels, predictions):\n",
        "        if abs(l - p) < 1e-5:\n",
        "            loss = loss + 1\n",
        "    loss = loss / len(labels)\n",
        "\n",
        "    return loss\n",
        "\n",
        "def cost(weights, bias, X, Y):\n",
        "    predictions = [variational_classifier(weights, bias, x) for x in X]\n",
        "    return square_loss(Y, predictions)\n"
      ]
    },
    {
      "cell_type": "code",
      "execution_count": 14,
      "metadata": {
        "id": "yoWXwb9JxKwU"
      },
      "outputs": [],
      "source": [
        "dev = qml.device(\"default.qubit\", wires=4)"
      ]
    },
    {
      "cell_type": "code",
      "execution_count": 15,
      "metadata": {
        "id": "0aboch0DxKwV"
      },
      "outputs": [],
      "source": [
        "def statepreparation(a):\n",
        "  qml.AngleEmbedding(features=a, wires=list(range(4)), rotation='Z')\n"
      ]
    },
    {
      "cell_type": "code",
      "execution_count": 16,
      "metadata": {
        "id": "l2KsALmuxKwW"
      },
      "outputs": [],
      "source": [
        "def layer(W):\n",
        "    qml.Rot(W[0, 0], W[0, 1], W[0, 2], wires=0)\n",
        "    qml.Rot(W[1, 0], W[1, 1], W[1, 2], wires=1)\n",
        "    qml.Rot(W[2, 0], W[2, 1], W[2, 2], wires=2)\n",
        "    qml.Rot(W[3, 0], W[3, 1], W[3, 2], wires=3)\n",
        "\n",
        "    qml.CNOT(wires=[0, 1])\n",
        "    qml.CNOT(wires=[1, 2])\n",
        "    qml.CNOT(wires=[2, 3])\n",
        "    qml.CNOT(wires=[3, 0])"
      ]
    },
    {
      "cell_type": "code",
      "execution_count": 8,
      "metadata": {
        "id": "KNJ0NnRmxKwW"
      },
      "outputs": [],
      "source": [
        "@qml.qnode(dev)\n",
        "def circuit(weights, angles):\n",
        "    statepreparation(angles)\n",
        "\n",
        "    for W in weights:\n",
        "        layer(W)\n",
        "\n",
        "    return qml.expval(qml.PauliZ(0))\n",
        "\n",
        "\n",
        "def variational_classifier(weights, bias, angles):\n",
        "    return circuit(weights, angles) + bias\n",
        "\n",
        "\n",
        "def cost(weights, bias, features, labels):\n",
        "    predictions = [variational_classifier(weights, bias, f) for f in features]\n",
        "    return square_loss(labels, predictions)\n"
      ]
    },
    {
      "cell_type": "code",
      "execution_count": 10,
      "metadata": {
        "id": "TMvo8PxZxKwZ",
        "colab": {
          "base_uri": "https://localhost:8080/",
          "height": 1000
        },
        "outputId": "75f93699-5a3f-4e9b-8637-14071c93d835"
      },
      "outputs": [
        {
          "output_type": "stream",
          "name": "stdout",
          "text": [
            "Iter:     1 | Cost: 1.9674247 | Acc train: 0.5200000 | Acc validation: 0.4400000 \n",
            "Iter:     2 | Cost: 1.9348817 | Acc train: 0.5200000 | Acc validation: 0.4400000 \n",
            "Iter:     3 | Cost: 1.8981128 | Acc train: 0.5200000 | Acc validation: 0.4400000 \n",
            "Iter:     4 | Cost: 1.8570052 | Acc train: 0.5200000 | Acc validation: 0.4400000 \n",
            "Iter:     5 | Cost: 1.8133153 | Acc train: 0.5200000 | Acc validation: 0.4400000 \n",
            "Iter:     6 | Cost: 1.7682704 | Acc train: 0.5200000 | Acc validation: 0.4400000 \n",
            "Iter:     7 | Cost: 1.7195984 | Acc train: 0.5200000 | Acc validation: 0.4400000 \n",
            "Iter:     8 | Cost: 1.6678500 | Acc train: 0.5200000 | Acc validation: 0.4400000 \n",
            "Iter:     9 | Cost: 1.6143485 | Acc train: 0.5200000 | Acc validation: 0.4400000 \n",
            "Iter:    10 | Cost: 1.5580886 | Acc train: 0.5200000 | Acc validation: 0.4400000 \n",
            "Iter:    11 | Cost: 1.5011917 | Acc train: 0.5200000 | Acc validation: 0.4400000 \n",
            "Iter:    12 | Cost: 1.4452316 | Acc train: 0.5200000 | Acc validation: 0.4400000 \n",
            "Iter:    13 | Cost: 1.3907542 | Acc train: 0.5200000 | Acc validation: 0.4400000 \n",
            "Iter:    14 | Cost: 1.3362314 | Acc train: 0.5200000 | Acc validation: 0.4400000 \n",
            "Iter:    15 | Cost: 1.2941110 | Acc train: 0.5200000 | Acc validation: 0.4400000 \n",
            "Iter:    16 | Cost: 1.2537623 | Acc train: 0.5200000 | Acc validation: 0.4400000 \n",
            "Iter:    17 | Cost: 1.2129954 | Acc train: 0.5200000 | Acc validation: 0.4400000 \n",
            "Iter:    18 | Cost: 1.1798865 | Acc train: 0.5200000 | Acc validation: 0.4400000 \n",
            "Iter:    19 | Cost: 1.1539391 | Acc train: 0.5200000 | Acc validation: 0.4400000 \n",
            "Iter:    20 | Cost: 1.1296239 | Acc train: 0.5200000 | Acc validation: 0.4400000 \n",
            "Iter:    21 | Cost: 1.1040290 | Acc train: 0.5200000 | Acc validation: 0.4400000 \n",
            "Iter:    22 | Cost: 1.0797506 | Acc train: 0.5200000 | Acc validation: 0.4400000 \n",
            "Iter:    23 | Cost: 1.0577751 | Acc train: 0.5200000 | Acc validation: 0.4400000 \n",
            "Iter:    24 | Cost: 1.0368968 | Acc train: 0.5200000 | Acc validation: 0.4400000 \n",
            "Iter:    25 | Cost: 1.0203279 | Acc train: 0.5200000 | Acc validation: 0.4400000 \n",
            "Iter:    26 | Cost: 1.0109752 | Acc train: 0.5200000 | Acc validation: 0.4400000 \n",
            "Iter:    27 | Cost: 1.0043693 | Acc train: 0.5200000 | Acc validation: 0.4400000 \n",
            "Iter:    28 | Cost: 1.0007258 | Acc train: 0.5200000 | Acc validation: 0.4400000 \n",
            "Iter:    29 | Cost: 1.0000360 | Acc train: 0.4800000 | Acc validation: 0.5600000 \n",
            "Iter:    30 | Cost: 1.0015399 | Acc train: 0.4800000 | Acc validation: 0.5600000 \n",
            "Iter:    31 | Cost: 1.0042450 | Acc train: 0.4800000 | Acc validation: 0.5600000 \n",
            "Iter:    32 | Cost: 1.0083282 | Acc train: 0.4800000 | Acc validation: 0.5600000 \n",
            "Iter:    33 | Cost: 1.0137399 | Acc train: 0.4800000 | Acc validation: 0.5600000 \n",
            "Iter:    34 | Cost: 1.0203030 | Acc train: 0.4800000 | Acc validation: 0.5600000 \n",
            "Iter:    35 | Cost: 1.0227195 | Acc train: 0.4800000 | Acc validation: 0.5600000 \n",
            "Iter:    36 | Cost: 1.0251957 | Acc train: 0.4800000 | Acc validation: 0.5600000 \n",
            "Iter:    37 | Cost: 1.0277920 | Acc train: 0.4800000 | Acc validation: 0.5600000 \n",
            "Iter:    38 | Cost: 1.0268982 | Acc train: 0.4800000 | Acc validation: 0.5600000 \n",
            "Iter:    39 | Cost: 1.0260345 | Acc train: 0.4800000 | Acc validation: 0.5600000 \n",
            "Iter:    40 | Cost: 1.0255390 | Acc train: 0.4800000 | Acc validation: 0.5600000 \n",
            "Iter:    41 | Cost: 1.0206806 | Acc train: 0.4800000 | Acc validation: 0.5600000 \n",
            "Iter:    42 | Cost: 1.0169453 | Acc train: 0.4800000 | Acc validation: 0.5600000 \n",
            "Iter:    43 | Cost: 1.0092310 | Acc train: 0.4800000 | Acc validation: 0.5600000 \n",
            "Iter:    44 | Cost: 1.0045270 | Acc train: 0.4800000 | Acc validation: 0.5600000 \n",
            "Iter:    45 | Cost: 1.0045526 | Acc train: 0.4800000 | Acc validation: 0.5600000 \n",
            "Iter:    46 | Cost: 1.0032118 | Acc train: 0.4800000 | Acc validation: 0.5600000 \n",
            "Iter:    47 | Cost: 1.0013120 | Acc train: 0.4800000 | Acc validation: 0.5600000 \n",
            "Iter:    48 | Cost: 1.0000199 | Acc train: 0.5200000 | Acc validation: 0.4400000 \n",
            "Iter:    49 | Cost: 1.0025565 | Acc train: 0.5200000 | Acc validation: 0.4400000 \n",
            "Iter:    50 | Cost: 1.0100332 | Acc train: 0.5200000 | Acc validation: 0.4400000 \n",
            "Iter:    51 | Cost: 1.0266557 | Acc train: 0.5200000 | Acc validation: 0.4400000 \n",
            "Iter:    52 | Cost: 1.0281499 | Acc train: 0.5200000 | Acc validation: 0.4400000 \n",
            "Iter:    53 | Cost: 1.0257693 | Acc train: 0.5200000 | Acc validation: 0.4400000 \n",
            "Iter:    54 | Cost: 1.0177437 | Acc train: 0.5200000 | Acc validation: 0.4400000 \n",
            "Iter:    55 | Cost: 1.0122358 | Acc train: 0.5200000 | Acc validation: 0.4400000 \n",
            "Iter:    56 | Cost: 1.0086308 | Acc train: 0.5200000 | Acc validation: 0.4400000 \n",
            "Iter:    57 | Cost: 1.0083037 | Acc train: 0.5200000 | Acc validation: 0.4400000 \n",
            "Iter:    58 | Cost: 1.0051817 | Acc train: 0.5200000 | Acc validation: 0.4400000 \n",
            "Iter:    59 | Cost: 1.0009998 | Acc train: 0.5200000 | Acc validation: 0.4400000 \n",
            "Iter:    60 | Cost: 1.0000002 | Acc train: 0.4800000 | Acc validation: 0.5600000 \n",
            "Iter:    61 | Cost: 1.0011009 | Acc train: 0.4800000 | Acc validation: 0.5600000 \n",
            "Iter:    62 | Cost: 1.0043122 | Acc train: 0.4800000 | Acc validation: 0.5600000 \n",
            "Iter:    63 | Cost: 1.0094177 | Acc train: 0.4800000 | Acc validation: 0.5600000 \n",
            "Iter:    64 | Cost: 1.0121632 | Acc train: 0.4800000 | Acc validation: 0.5600000 \n",
            "Iter:    65 | Cost: 1.0152969 | Acc train: 0.4800000 | Acc validation: 0.5600000 \n",
            "Iter:    66 | Cost: 1.0208276 | Acc train: 0.4800000 | Acc validation: 0.5600000 \n",
            "Iter:    67 | Cost: 1.0291068 | Acc train: 0.4800000 | Acc validation: 0.5600000 \n",
            "Iter:    68 | Cost: 1.0350128 | Acc train: 0.4800000 | Acc validation: 0.5600000 \n",
            "Iter:    69 | Cost: 1.0353905 | Acc train: 0.4800000 | Acc validation: 0.5600000 \n",
            "Iter:    70 | Cost: 1.0383140 | Acc train: 0.4800000 | Acc validation: 0.5600000 \n"
          ]
        },
        {
          "output_type": "display_data",
          "data": {
            "text/plain": [
              "<Figure size 432x288 with 1 Axes>"
            ],
            "image/png": "[encoded data removed]"
          },
          "metadata": {
            "needs_background": "light"
          }
        },
        {
          "output_type": "display_data",
          "data": {
            "text/plain": [
              "<Figure size 432x288 with 1 Axes>"
            ],
            "image/png": "[encoded data removed]"
          },
          "metadata": {
            "needs_background": "light"
          }
        }
      ],
      "source": [
        "num_qubits = 4\n",
        "num_layers = 6\n",
        "\n",
        "weights_init = 0.01 * np.random.randn(num_layers, num_qubits, 3, requires_grad=True)\n",
        "bias_init = np.array(0.0, requires_grad=True)\n",
        "\n",
        "opt = qml.AdamOptimizer()\n",
        "batch_size = 5\n",
        "\n",
        "# train the variational classifier\n",
        "weights = weights_init\n",
        "bias = bias_init\n",
        "graph = pd.DataFrame( columns = [\"iter\", \"cost\",\"acc_train\", \"acc_val\"] )\n",
        "for it in range(70):\n",
        "\n",
        "    # Update the weights by one optimizer step\n",
        "    batch_index = np.random.randint(0, num_train, (batch_size,))\n",
        "    feats_train_batch = feats_train[batch_index]\n",
        "    Y_train_batch = Y_train[batch_index]\n",
        "    weights, bias, _, _ = opt.step(cost, weights, bias, feats_train_batch, Y_train_batch)\n",
        "\n",
        "    # Compute predictions on train and validation set\n",
        "    predictions_train = [np.sign(variational_classifier(weights, bias, f)) for f in feats_train]\n",
        "    predictions_val = [np.sign(variational_classifier(weights, bias, f)) for f in feats_val]\n",
        "\n",
        "    # Compute accuracy on train and validation set\n",
        "    acc_train = accuracy(Y_train, predictions_train)\n",
        "    acc_val = accuracy(Y_val, predictions_val)\n",
        "    graph = graph.append({'iter' : it + 1, 'cost' : cost(weights, bias, features, Y),'acc_train':acc_train,'acc_val':acc_val}, ignore_index=True)\n",
        "    print(\n",
        "        \"Iter: {:5d} | Cost: {:0.7f} | Acc train: {:0.7f} | Acc validation: {:0.7f} \"\n",
        "        \"\".format(it + 1, cost(weights, bias, features, Y), acc_train, acc_val)\n",
        "    )\n",
        "\n",
        "\n",
        "# graph cost vs \n",
        "\n",
        "acc_train = graph['acc_train']\n",
        "acc_val = graph['acc_val']\n",
        "epochs = graph['iter']\n",
        "plt.plot(epochs, acc_train, 'g', label='Training accuracy')\n",
        "plt.plot(epochs, acc_val, 'b', label='validation accuracy')\n",
        "plt.title('Train accuracy and Validation accuracy')\n",
        "plt.xlabel('Epochs')\n",
        "plt.ylabel('Accuracy')\n",
        "plt.legend()\n",
        "plt.show()\n",
        "\n",
        "# graph cost vs \n",
        "\n",
        "cost = graph['cost']\n",
        "\n",
        "epochs = graph['iter']\n",
        "plt.plot(epochs, cost, 'g', label='Cost')\n",
        "plt.title('Cost v/s epoch')\n",
        "plt.xlabel('Epochs')\n",
        "plt.ylabel('Cost')\n",
        "plt.legend()\n",
        "plt.show()"
      ]
    },
    {
      "cell_type": "code",
      "source": [
        "@qml.qnode(dev)\n",
        "def circuit(weights, angles):\n",
        "    statepreparation(angles)\n",
        "\n",
        "    for W in weights:\n",
        "        layer(W)\n",
        "\n",
        "    return  qml.expval(qml.PauliY(1))\n",
        "\n",
        "\n",
        "def variational_classifier(weights, bias, angles):\n",
        "    return circuit(weights, angles) + bias\n",
        "\n",
        "\n",
        "def cost(weights, bias, features, labels):\n",
        "    predictions = [variational_classifier(weights, bias, f) for f in features]\n",
        "    return square_loss(labels, predictions)"
      ],
      "metadata": {
        "id": "XGDbMPyu71Jn"
      },
      "execution_count": 27,
      "outputs": []
    },
    {
      "cell_type": "code",
      "execution_count": 28,
      "metadata": {
        "colab": {
          "base_uri": "https://localhost:8080/",
          "height": 1000
        },
        "outputId": "1387f767-6d12-4ef2-d230-0c0a132771ca",
        "id": "7uizw6PeUSrN"
      },
      "outputs": [
        {
          "output_type": "stream",
          "name": "stdout",
          "text": [
            "Iter:     1 | Cost: 1.0001080 | Acc train: 0.5200000 | Acc validation: 0.4400000 \n",
            "Iter:     2 | Cost: 1.0004109 | Acc train: 0.5200000 | Acc validation: 0.4400000 \n",
            "Iter:     3 | Cost: 1.0003633 | Acc train: 0.5200000 | Acc validation: 0.4400000 \n",
            "Iter:     4 | Cost: 1.0001832 | Acc train: 0.5200000 | Acc validation: 0.4400000 \n",
            "Iter:     5 | Cost: 1.0000164 | Acc train: 0.5200000 | Acc validation: 0.4400000 \n",
            "Iter:     6 | Cost: 1.0000002 | Acc train: 0.5200000 | Acc validation: 0.4400000 \n",
            "Iter:     7 | Cost: 1.0000013 | Acc train: 0.5200000 | Acc validation: 0.4400000 \n",
            "Iter:     8 | Cost: 1.0000004 | Acc train: 0.5200000 | Acc validation: 0.4400000 \n",
            "Iter:     9 | Cost: 1.0000078 | Acc train: 0.4800000 | Acc validation: 0.5600000 \n",
            "Iter:    10 | Cost: 1.0000234 | Acc train: 0.4800000 | Acc validation: 0.5600000 \n",
            "Iter:    11 | Cost: 1.0000129 | Acc train: 0.4800000 | Acc validation: 0.5600000 \n",
            "Iter:    12 | Cost: 1.0000000 | Acc train: 0.4800000 | Acc validation: 0.5600000 \n",
            "Iter:    13 | Cost: 1.0000230 | Acc train: 0.5200000 | Acc validation: 0.4400000 \n",
            "Iter:    14 | Cost: 1.0000884 | Acc train: 0.5200000 | Acc validation: 0.4400000 \n",
            "Iter:    15 | Cost: 1.0001875 | Acc train: 0.5200000 | Acc validation: 0.4400000 \n",
            "Iter:    16 | Cost: 1.0002741 | Acc train: 0.5200000 | Acc validation: 0.4400000 \n",
            "Iter:    17 | Cost: 1.0003298 | Acc train: 0.5200000 | Acc validation: 0.4400000 \n",
            "Iter:    18 | Cost: 1.0003469 | Acc train: 0.5200000 | Acc validation: 0.4400000 \n",
            "Iter:    19 | Cost: 1.0004741 | Acc train: 0.5200000 | Acc validation: 0.4400000 \n",
            "Iter:    20 | Cost: 1.0006356 | Acc train: 0.5200000 | Acc validation: 0.4400000 \n",
            "Iter:    21 | Cost: 1.0007601 | Acc train: 0.5200000 | Acc validation: 0.4400000 \n",
            "Iter:    22 | Cost: 1.0008314 | Acc train: 0.5200000 | Acc validation: 0.4400000 \n",
            "Iter:    23 | Cost: 1.0009377 | Acc train: 0.5200000 | Acc validation: 0.4400000 \n",
            "Iter:    24 | Cost: 1.0008773 | Acc train: 0.5200000 | Acc validation: 0.4400000 \n",
            "Iter:    25 | Cost: 1.0008602 | Acc train: 0.5200000 | Acc validation: 0.4400000 \n",
            "Iter:    26 | Cost: 1.0008877 | Acc train: 0.5200000 | Acc validation: 0.4400000 \n",
            "Iter:    27 | Cost: 1.0009624 | Acc train: 0.5200000 | Acc validation: 0.4400000 \n",
            "Iter:    28 | Cost: 1.0010883 | Acc train: 0.5200000 | Acc validation: 0.4400000 \n",
            "Iter:    29 | Cost: 1.0010040 | Acc train: 0.5200000 | Acc validation: 0.4400000 \n",
            "Iter:    30 | Cost: 1.0011040 | Acc train: 0.5200000 | Acc validation: 0.4400000 \n",
            "Iter:    31 | Cost: 1.0013804 | Acc train: 0.5200000 | Acc validation: 0.4400000 \n",
            "Iter:    32 | Cost: 1.0017176 | Acc train: 0.5200000 | Acc validation: 0.4400000 \n",
            "Iter:    33 | Cost: 1.0019552 | Acc train: 0.5200000 | Acc validation: 0.4400000 \n",
            "Iter:    34 | Cost: 1.0024114 | Acc train: 0.5200000 | Acc validation: 0.4400000 \n",
            "Iter:    35 | Cost: 1.0032790 | Acc train: 0.5200000 | Acc validation: 0.4400000 \n",
            "Iter:    36 | Cost: 1.0037776 | Acc train: 0.5200000 | Acc validation: 0.4400000 \n",
            "Iter:    37 | Cost: 1.0040883 | Acc train: 0.5200000 | Acc validation: 0.4400000 \n",
            "Iter:    38 | Cost: 1.0041995 | Acc train: 0.5200000 | Acc validation: 0.4400000 \n",
            "Iter:    39 | Cost: 1.0041269 | Acc train: 0.5200000 | Acc validation: 0.4400000 \n",
            "Iter:    40 | Cost: 1.0036990 | Acc train: 0.5200000 | Acc validation: 0.4400000 \n",
            "Iter:    41 | Cost: 1.0032328 | Acc train: 0.5200000 | Acc validation: 0.4400000 \n",
            "Iter:    42 | Cost: 1.0030858 | Acc train: 0.5200000 | Acc validation: 0.4400000 \n",
            "Iter:    43 | Cost: 1.0027333 | Acc train: 0.5200000 | Acc validation: 0.4400000 \n",
            "Iter:    44 | Cost: 1.0024976 | Acc train: 0.5200000 | Acc validation: 0.4400000 \n",
            "Iter:    45 | Cost: 1.0023515 | Acc train: 0.5200000 | Acc validation: 0.4400000 \n",
            "Iter:    46 | Cost: 1.0023924 | Acc train: 0.5200000 | Acc validation: 0.4400000 \n",
            "Iter:    47 | Cost: 1.0023627 | Acc train: 0.5200000 | Acc validation: 0.4400000 \n",
            "Iter:    48 | Cost: 1.0025955 | Acc train: 0.5200000 | Acc validation: 0.4400000 \n",
            "Iter:    49 | Cost: 1.0027435 | Acc train: 0.5200000 | Acc validation: 0.4400000 \n",
            "Iter:    50 | Cost: 1.0029260 | Acc train: 0.5200000 | Acc validation: 0.4400000 \n",
            "Iter:    51 | Cost: 1.0031453 | Acc train: 0.5200000 | Acc validation: 0.4400000 \n",
            "Iter:    52 | Cost: 1.0034064 | Acc train: 0.5200000 | Acc validation: 0.4400000 \n",
            "Iter:    53 | Cost: 1.0035483 | Acc train: 0.5200000 | Acc validation: 0.4400000 \n",
            "Iter:    54 | Cost: 1.0038958 | Acc train: 0.5200000 | Acc validation: 0.4400000 \n",
            "Iter:    55 | Cost: 1.0044785 | Acc train: 0.5200000 | Acc validation: 0.4400000 \n",
            "Iter:    56 | Cost: 1.0051712 | Acc train: 0.5200000 | Acc validation: 0.4400000 \n",
            "Iter:    57 | Cost: 1.0051176 | Acc train: 0.5200000 | Acc validation: 0.4400000 \n",
            "Iter:    58 | Cost: 1.0051397 | Acc train: 0.5200000 | Acc validation: 0.4400000 \n",
            "Iter:    59 | Cost: 1.0050290 | Acc train: 0.5200000 | Acc validation: 0.4400000 \n",
            "Iter:    60 | Cost: 1.0051841 | Acc train: 0.5200000 | Acc validation: 0.4400000 \n",
            "Iter:    61 | Cost: 1.0051974 | Acc train: 0.5200000 | Acc validation: 0.4400000 \n",
            "Iter:    62 | Cost: 1.0049145 | Acc train: 0.5200000 | Acc validation: 0.4400000 \n",
            "Iter:    63 | Cost: 1.0045672 | Acc train: 0.5200000 | Acc validation: 0.4400000 \n",
            "Iter:    64 | Cost: 1.0043245 | Acc train: 0.5200000 | Acc validation: 0.4400000 \n",
            "Iter:    65 | Cost: 1.0041663 | Acc train: 0.5200000 | Acc validation: 0.4400000 \n",
            "Iter:    66 | Cost: 1.0036915 | Acc train: 0.5200000 | Acc validation: 0.4400000 \n",
            "Iter:    67 | Cost: 1.0032172 | Acc train: 0.5200000 | Acc validation: 0.4400000 \n",
            "Iter:    68 | Cost: 1.0026465 | Acc train: 0.5200000 | Acc validation: 0.4400000 \n",
            "Iter:    69 | Cost: 1.0023351 | Acc train: 0.5200000 | Acc validation: 0.4400000 \n",
            "Iter:    70 | Cost: 1.0020107 | Acc train: 0.5200000 | Acc validation: 0.4400000 \n"
          ]
        },
        {
          "output_type": "display_data",
          "data": {
            "text/plain": [
              "<Figure size 432x288 with 1 Axes>"
            ],
            "image/png": "[encoded data removed]"
          },
          "metadata": {
            "needs_background": "light"
          }
        },
        {
          "output_type": "display_data",
          "data": {
            "text/plain": [
              "<Figure size 432x288 with 1 Axes>"
            ],
            "image/png": "[encoded data removed]"
          },
          "metadata": {
            "needs_background": "light"
          }
        }
      ],
      "source": [
        "num_qubits = 4\n",
        "num_layers = 6\n",
        "\n",
        "weights_init = 0.01 * np.random.randn(num_layers, num_qubits, 3, requires_grad=True)\n",
        "bias_init = np.array(0.0, requires_grad=True)\n",
        "\n",
        "opt = qml.AdamOptimizer()\n",
        "batch_size = 5\n",
        "\n",
        "# train the variational classifier\n",
        "weights = weights_init\n",
        "bias = bias_init\n",
        "graph = pd.DataFrame( columns = [\"iter\", \"cost\",\"acc_train\", \"acc_val\"] )\n",
        "for it in range(70):\n",
        "\n",
        "    # Update the weights by one optimizer step\n",
        "    batch_index = np.random.randint(0, num_train, (batch_size,))\n",
        "    feats_train_batch = feats_train[batch_index]\n",
        "    Y_train_batch = Y_train[batch_index]\n",
        "    weights, bias, _, _ = opt.step(cost, weights, bias, feats_train_batch, Y_train_batch)\n",
        "\n",
        "    # Compute predictions on train and validation set\n",
        "    predictions_train = [np.sign(variational_classifier(weights, bias, f)) for f in feats_train]\n",
        "    predictions_val = [np.sign(variational_classifier(weights, bias, f)) for f in feats_val]\n",
        "\n",
        "    # Compute accuracy on train and validation set\n",
        "    acc_train = accuracy(Y_train, predictions_train)\n",
        "    acc_val = accuracy(Y_val, predictions_val)\n",
        "    graph = graph.append({'iter' : it + 1, 'cost' : cost(weights, bias, features, Y),'acc_train':acc_train,'acc_val':acc_val}, ignore_index=True)\n",
        "    print(\n",
        "        \"Iter: {:5d} | Cost: {:0.7f} | Acc train: {:0.7f} | Acc validation: {:0.7f} \"\n",
        "        \"\".format(it + 1, cost(weights, bias, features, Y), acc_train, acc_val)\n",
        "    )\n",
        "\n",
        "\n",
        "# graph cost vs \n",
        "\n",
        "acc_train = graph['acc_train']\n",
        "acc_val = graph['acc_val']\n",
        "epochs = graph['iter']\n",
        "plt.plot(epochs, acc_train, 'g', label='Training accuracy')\n",
        "plt.plot(epochs, acc_val, 'b', label='validation accuracy')\n",
        "plt.title('Train accuracy and Validation accuracy')\n",
        "plt.xlabel('Epochs')\n",
        "plt.ylabel('Accuracy')\n",
        "plt.legend()\n",
        "plt.show()\n",
        "\n",
        "# graph cost vs \n",
        "\n",
        "cost = graph['cost']\n",
        "\n",
        "epochs = graph['iter']\n",
        "plt.plot(epochs, cost, 'g', label='Cost')\n",
        "plt.title('Cost v/s epoch')\n",
        "plt.xlabel('Epochs')\n",
        "plt.ylabel('Cost')\n",
        "plt.legend()\n",
        "plt.show()"
      ]
    },
    {
      "cell_type": "code",
      "source": [
        "  "
      ],
      "metadata": {
        "id": "qDiSw0VVUbiY"
      },
      "execution_count": null,
      "outputs": []
    }
  ],
  "metadata": {
    "kernelspec": {
      "display_name": "Python 3",
      "language": "python",
      "name": "python3"
    },
    "language_info": {
      "codemirror_mode": {
        "name": "ipython",
        "version": 3
      },
      "file_extension": ".py",
      "mimetype": "text/x-python",
      "name": "python",
      "nbconvert_exporter": "python",
      "pygments_lexer": "ipython3",
      "version": "3.7.15"
    },
    "colab": {
      "provenance": [],
      "collapsed_sections": []
    },
    "gpuClass": "standard"
  },
  "nbformat": 4,
  "nbformat_minor": 0
}