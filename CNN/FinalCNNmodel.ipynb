{
  "metadata": {
    "kernelspec": {
      "display_name": "Python 3",
      "language": "python",
      "name": "python3"
    },
    "language_info": {
      "name": "python",
      "version": "3.6.6",
      "mimetype": "text/x-python",
      "codemirror_mode": {
        "name": "ipython",
        "version": 3
      },
      "pygments_lexer": "ipython3",
      "nbconvert_exporter": "python",
      "file_extension": ".py"
    },
    "colab": {
      "provenance": []
    },
    "accelerator": "GPU"
  },
  "nbformat_minor": 0,
  "nbformat": 4,
  "cells": [
    {
      "cell_type": "code",
      "source": [
        "\n",
        "\n",
        "import numpy as np # linear algebra\n",
        "import pandas as pd # data processing, CSV file I/O (e.g. pd.read_csv)\n",
        "import matplotlib.pyplot as plt\n",
        "import seaborn as sns\n",
        "from tensorflow import keras\n",
        "\n",
        "# import warnings\n",
        "import warnings\n",
        "# filter warnings\n",
        "warnings.filterwarnings('ignore')\n"
      ],
      "metadata": {
        "_uuid": "8f2839f25d086af736a60e9eeb907d3b93b6e0e5",
        "_cell_guid": "b1076dfc-b9ad-4769-8c92-a6c4dae69d19",
        "trusted": true,
        "id": "2dLVdjnDCiOn"
      },
      "execution_count": 1,
      "outputs": []
    },
    {
      "cell_type": "code",
      "source": [
        "\n",
        "(X_train, Y_train), (X_test, Y_test) = keras.datasets.mnist.load_data()\n",
        "\n"
      ],
      "metadata": {
        "_uuid": "14d12bc63b325f054a02a93d702d4b99225147a6",
        "trusted": true,
        "colab": {
          "base_uri": "https://localhost:8080/"
        },
        "id": "11Z_oqJKCiOz",
        "outputId": "8cb72398-d154-4308-c96b-991ba67988f3"
      },
      "execution_count": 2,
      "outputs": [
        {
          "output_type": "stream",
          "name": "stdout",
          "text": [
            "Downloading data from https://storage.googleapis.com/tensorflow/tf-keras-datasets/mnist.npz\n",
            "11490434/11490434 [==============================] - 0s 0us/step\n"
          ]
        }
      ]
    },
    {
      "cell_type": "code",
      "source": [
        "# Normalize the data\n",
        "X_train = X_train / 255.0\n",
        "X_test = X_test / 255.0\n",
        "print(\"X_train shape: \",X_train.shape)\n",
        "print(\"X_test shape: \",X_test.shape)\n"
      ],
      "metadata": {
        "_uuid": "1f59b93f6f395b11433cecc1893b16209b2a007a",
        "trusted": true,
        "colab": {
          "base_uri": "https://localhost:8080/"
        },
        "id": "sm_VICSuCiO3",
        "outputId": "f71153b1-8a53-4eeb-c98a-b7e65c570f30"
      },
      "execution_count": 3,
      "outputs": [
        {
          "output_type": "stream",
          "name": "stdout",
          "text": [
            "X_train shape:  (60000, 28, 28)\n",
            "X_test shape:  (10000, 28, 28)\n"
          ]
        }
      ]
    },
    {
      "cell_type": "code",
      "source": [
        "# Reshaping\n",
        "X_train = X_train.reshape(-1,28,28,1)\n",
        "X_test = X_test.reshape(-1,28,28,1)\n",
        "print(\"X_train shape: \",X_train.shape)\n",
        "print(\"X_test shape: \",X_test.shape)"
      ],
      "metadata": {
        "_uuid": "04e3cb5505820bc4ae7a491cee2ede8e9a1cf67f",
        "trusted": true,
        "colab": {
          "base_uri": "https://localhost:8080/"
        },
        "id": "jIcpNeNTCiO4",
        "outputId": "60277bcd-f086-40fd-952f-59b90472f47f"
      },
      "execution_count": 4,
      "outputs": [
        {
          "output_type": "stream",
          "name": "stdout",
          "text": [
            "X_train shape:  (60000, 28, 28, 1)\n",
            "X_test shape:  (10000, 28, 28, 1)\n"
          ]
        }
      ]
    },
    {
      "cell_type": "code",
      "source": [
        "# Label Encoding (be careful! run just once!)\n",
        "from keras.utils.np_utils import to_categorical \n",
        "\n",
        "# convert to one-hot-encoding(one hot vectors)\n",
        "Y_train = to_categorical(Y_train, num_classes = 10)\n",
        "# convert to one-hot-encoding(one hot vectors)\n",
        "Y_test = to_categorical(Y_test, num_classes = 10)\n",
        "\n",
        "print(Y_train.shape)\n",
        "print(Y_test.shape)"
      ],
      "metadata": {
        "colab": {
          "base_uri": "https://localhost:8080/"
        },
        "id": "t-Dk770xHeVq",
        "outputId": "942e68c7-087c-40d4-8b21-5ca2b397de13"
      },
      "execution_count": 5,
      "outputs": [
        {
          "output_type": "stream",
          "name": "stdout",
          "text": [
            "(60000, 10)\n",
            "(10000, 10)\n"
          ]
        }
      ]
    },
    {
      "cell_type": "code",
      "source": [
        "# Split the train and the validation set for the fitting\n",
        "from sklearn.model_selection import train_test_split\n",
        "x_train, x_val, y_train, y_val = train_test_split(X_train, Y_train, test_size = 0.1, random_state = 2)\n",
        "print(\"x_train shape: \",x_train.shape)\n",
        "print(\"x_val shape: \",x_val.shape)\n",
        "print(\"y_train shape: \",y_train.shape)\n",
        "print(\"y_val shape :\",y_val.shape)"
      ],
      "metadata": {
        "_uuid": "99d0d3a2b67b6b591ec625276e7ddbe0c4390b4e",
        "trusted": true,
        "colab": {
          "base_uri": "https://localhost:8080/"
        },
        "id": "tjV1LfMsCiO4",
        "outputId": "8aa80728-50a0-45e2-ecd8-5b1b1f09c1c1"
      },
      "execution_count": 6,
      "outputs": [
        {
          "output_type": "stream",
          "name": "stdout",
          "text": [
            "x_train shape:  (54000, 28, 28, 1)\n",
            "x_val shape:  (6000, 28, 28, 1)\n",
            "y_train shape:  (54000, 10)\n",
            "y_val shape : (6000, 10)\n"
          ]
        }
      ]
    },
    {
      "cell_type": "code",
      "source": [
        "# Some examples\n",
        "plt.imshow(x_train[4].reshape(28,28),cmap=\"gray\")\n",
        "plt.axis(\"off\")\n",
        "plt.show()"
      ],
      "metadata": {
        "_uuid": "1ccd43bc97b3f908ff01099ade6b8030c24f930e",
        "trusted": true,
        "colab": {
          "base_uri": "https://localhost:8080/",
          "height": 248
        },
        "id": "hhX1FamjCiO5",
        "outputId": "cf4a34f0-c778-43ba-93e9-87c72f59da70"
      },
      "execution_count": 7,
      "outputs": [
        {
          "output_type": "display_data",
          "data": {
            "text/plain": [
              "<Figure size 432x288 with 1 Axes>"
            ],
            "image/png": "[encoded data removed]"
          },
          "metadata": {
            "needs_background": "light"
          }
        }
      ]
    },
    {
      "cell_type": "code",
      "source": [
        "import warnings\n",
        "warnings.filterwarnings('ignore')\n",
        "\n",
        "from sklearn.metrics import confusion_matrix\n",
        "\n",
        "from keras.models import Sequential, model_from_json\n",
        "from keras.layers import Dense, Conv2D, Activation, MaxPool2D, Flatten, Dropout, BatchNormalization\n",
        "from tensorflow.keras.optimizers import RMSprop, Adam\n",
        "from keras.preprocessing import image\n",
        "from keras.preprocessing.image import ImageDataGenerator\n",
        "from keras.callbacks import ModelCheckpoint\n",
        "\n",
        "model = Sequential()\n",
        "\n",
        "#1. LAYER\n",
        "model.add(Conv2D(filters = 32, kernel_size = (3,3), padding = 'Same', input_shape=(28, 28, 1)))\n",
        "model.add(BatchNormalization())\n",
        "model.add(Activation(\"relu\"))\n",
        "\n",
        "#2. LAYER\n",
        "model.add(Conv2D(filters = 32, kernel_size = (3,3),strides=(1,1), padding = 'Same'))\n",
        "model.add(BatchNormalization())\n",
        "model.add(Activation(\"relu\"))\n",
        "\n",
        "model.add(MaxPool2D(pool_size=(2, 2)))\n",
        "\n",
        "#3. LAYER\n",
        "model.add(Conv2D(filters = 64, kernel_size = (3,3),strides=(1,1), padding = 'Same'))\n",
        "model.add(BatchNormalization())\n",
        "model.add(Activation(\"relu\"))\n",
        "\n",
        "#4. LAYER\n",
        "model.add(Conv2D(filters = 64, kernel_size = (3,3), padding = 'Same'))\n",
        "model.add(BatchNormalization())\n",
        "model.add(Activation(\"relu\"))\n",
        "model.add(MaxPool2D(pool_size=(2, 2)))\n",
        "\n",
        "#FULLY CONNECTED LAYER\n",
        "model.add(Flatten())\n",
        "model.add(Dense(256))\n",
        "model.add(BatchNormalization())\n",
        "model.add(Activation(\"relu\"))\n",
        "model.add(Dropout(0.25))\n",
        "\n",
        "#OUTPUT LAYER\n",
        "model.add(Dense(10, activation='softmax'))"
      ],
      "metadata": {
        "_uuid": "ce10e9a012c550546b529183abd66ab075ff4ad8",
        "trusted": true,
        "id": "SHtBXAwQCiO5"
      },
      "execution_count": 54,
      "outputs": []
    },
    {
      "cell_type": "code",
      "source": [
        "model.summary()"
      ],
      "metadata": {
        "_uuid": "58fd25b66c22aaeeb62e06b3e674b457eba2a4c9",
        "trusted": true,
        "colab": {
          "base_uri": "https://localhost:8080/"
        },
        "id": "p5QKHNekCiO6",
        "outputId": "adbb32b9-796b-4091-b96a-9843ffca080a"
      },
      "execution_count": 55,
      "outputs": [
        {
          "output_type": "stream",
          "name": "stdout",
          "text": [
            "Model: \"sequential_1\"\n",
            "_________________________________________________________________\n",
            " Layer (type)                Output Shape              Param #   \n",
            "=================================================================\n",
            " conv2d_4 (Conv2D)           (None, 28, 28, 1)         10        \n",
            "                                                                 \n",
            " batch_normalization_5 (Batc  (None, 28, 28, 1)        4         \n",
            " hNormalization)                                                 \n",
            "                                                                 \n",
            " activation_5 (Activation)   (None, 28, 28, 1)         0         \n",
            "                                                                 \n",
            " flatten_1 (Flatten)         (None, 784)               0         \n",
            "                                                                 \n",
            " dense_2 (Dense)             (None, 256)               200960    \n",
            "                                                                 \n",
            " batch_normalization_6 (Batc  (None, 256)              1024      \n",
            " hNormalization)                                                 \n",
            "                                                                 \n",
            " activation_6 (Activation)   (None, 256)               0         \n",
            "                                                                 \n",
            " dropout_1 (Dropout)         (None, 256)               0         \n",
            "                                                                 \n",
            " dense_3 (Dense)             (None, 10)                2570      \n",
            "                                                                 \n",
            "=================================================================\n",
            "Total params: 204,568\n",
            "Trainable params: 204,054\n",
            "Non-trainable params: 514\n",
            "_________________________________________________________________\n"
          ]
        }
      ]
    },
    {
      "cell_type": "code",
      "source": [
        "optimizer = Adam(lr=0.001, beta_1=0.9, beta_2=0.999, epsilon=None, decay=0.0, amsgrad=False)"
      ],
      "metadata": {
        "_uuid": "40b63722a499f57758797c3a3ea51ea605664678",
        "trusted": true,
        "id": "HaAAyNlwCiO6"
      },
      "execution_count": 56,
      "outputs": []
    },
    {
      "cell_type": "code",
      "source": [
        "# Compile the model\n",
        "model.compile(optimizer = optimizer, loss = \"categorical_crossentropy\", metrics=[\"accuracy\"])"
      ],
      "metadata": {
        "_uuid": "0870d9f7c9cb523504fda975627006206a05fdcc",
        "trusted": true,
        "id": "ZU8NkzunCiO7"
      },
      "execution_count": 57,
      "outputs": []
    },
    {
      "cell_type": "markdown",
      "source": [
        "<a id=\"8\"></a>\n",
        "### Epochs and Batch Size"
      ],
      "metadata": {
        "_uuid": "61f30b93de33359e797e9a98ffdfb077ce443ce3",
        "id": "y2Tx9VxXCiO7"
      }
    },
    {
      "cell_type": "code",
      "source": [
        "epochs = 10 \n",
        "batch_size = 100"
      ],
      "metadata": {
        "_uuid": "bd9149b5e28d32c466db7dcb5c7be0d49b13616a",
        "trusted": true,
        "id": "iglTUBbdCiPA"
      },
      "execution_count": 58,
      "outputs": []
    },
    {
      "cell_type": "code",
      "source": [
        "# Data Augmentation\n",
        "datagen = ImageDataGenerator(\n",
        "        featurewise_center=False,  # set input mean to 0 over the dataset\n",
        "        samplewise_center=False,  # set each sample mean to 0\n",
        "        featurewise_std_normalization=False,  # divide inputs by std of the dataset\n",
        "        samplewise_std_normalization=False,  # divide each input by its std\n",
        "        zca_whitening=False,  # dimesion reduction\n",
        "        rotation_range=0.1,  # randomly rotate images in the range\n",
        "        zoom_range = 0.1, # Randomly zoom image\n",
        "        width_shift_range=0.1,  # randomly shift images horizontally\n",
        "        height_shift_range=0.1,  # randomly shift images vertically\n",
        "        horizontal_flip=False,  # randomly flip images\n",
        "        vertical_flip=False)  # randomly flip images\n",
        "\n",
        "datagen.fit(x_train)"
      ],
      "metadata": {
        "_uuid": "200d5d410bdbfb4610d19fe0b844afbf5f8ed0f7",
        "trusted": true,
        "id": "17sm61s5CiPA"
      },
      "execution_count": 59,
      "outputs": []
    },
    {
      "cell_type": "code",
      "source": [
        "# # save the best weights\n",
        "# checkpointer = ModelCheckpoint(filepath=\"../yourPath/fashion_mnist_model.h5\", verbose=1, save_best_only=True)"
      ],
      "metadata": {
        "_uuid": "942560519e865b5039a6bac03ae2fd073004cc65",
        "trusted": true,
        "id": "ROQx1M4ZCiPA"
      },
      "execution_count": 60,
      "outputs": []
    },
    {
      "cell_type": "code",
      "source": [
        "\n",
        "history = model.fit_generator(datagen.flow(x_train, y_train, batch_size=batch_size),\n",
        "                              shuffle=True, #veriler random gelip eğitilir\n",
        "                              epochs=epochs, \n",
        "                              validation_data = (x_val, y_val), \n",
        "                              steps_per_epoch=x_train.shape[0] // batch_size)\n",
        "#                               callbacks=[checkpointer]) #we save the best weights with checkpointer"
      ],
      "metadata": {
        "scrolled": true,
        "_uuid": "ad5c98d31ea4788a56f3e1cf71a16ae22cd9d4ce",
        "trusted": true,
        "colab": {
          "base_uri": "https://localhost:8080/"
        },
        "id": "VzYI00RyCiPB",
        "outputId": "e3875de8-8d58-47e3-df8e-003a2d611839"
      },
      "execution_count": 61,
      "outputs": [
        {
          "output_type": "stream",
          "name": "stdout",
          "text": [
            "Epoch 1/10\n",
            "540/540 [==============================] - 33s 60ms/step - loss: 0.6505 - accuracy: 0.8019 - val_loss: 0.2269 - val_accuracy: 0.9423\n",
            "Epoch 2/10\n",
            "540/540 [==============================] - 30s 55ms/step - loss: 0.3531 - accuracy: 0.8979 - val_loss: 0.1602 - val_accuracy: 0.9537\n",
            "Epoch 3/10\n",
            "540/540 [==============================] - 30s 56ms/step - loss: 0.2818 - accuracy: 0.9179 - val_loss: 0.1352 - val_accuracy: 0.9647\n",
            "Epoch 4/10\n",
            "540/540 [==============================] - 31s 57ms/step - loss: 0.2552 - accuracy: 0.9233 - val_loss: 0.1202 - val_accuracy: 0.9687\n",
            "Epoch 5/10\n",
            "540/540 [==============================] - 30s 55ms/step - loss: 0.2314 - accuracy: 0.9319 - val_loss: 0.1108 - val_accuracy: 0.9688\n",
            "Epoch 6/10\n",
            "540/540 [==============================] - 30s 55ms/step - loss: 0.2189 - accuracy: 0.9354 - val_loss: 0.1020 - val_accuracy: 0.9748\n",
            "Epoch 7/10\n",
            "540/540 [==============================] - 29s 54ms/step - loss: 0.2013 - accuracy: 0.9397 - val_loss: 0.0925 - val_accuracy: 0.9742\n",
            "Epoch 8/10\n",
            "540/540 [==============================] - 29s 54ms/step - loss: 0.1956 - accuracy: 0.9423 - val_loss: 0.0941 - val_accuracy: 0.9722\n",
            "Epoch 9/10\n",
            "540/540 [==============================] - 29s 54ms/step - loss: 0.1928 - accuracy: 0.9427 - val_loss: 0.0868 - val_accuracy: 0.9745\n",
            "Epoch 10/10\n",
            "540/540 [==============================] - 30s 55ms/step - loss: 0.1831 - accuracy: 0.9465 - val_loss: 0.0872 - val_accuracy: 0.9750\n"
          ]
        }
      ]
    },
    {
      "cell_type": "code",
      "source": [
        "\n",
        "# serialize model to JSON\n",
        "model_json = model.to_json()\n",
        "with open(\"model.json\", \"w\") as json_file:\n",
        "    json_file.write(model_json)\n",
        "# serialize weights to HDF5\n",
        "model.save_weights(\"model.h5\")\n",
        "print(\"Saved model to disk\")"
      ],
      "metadata": {
        "colab": {
          "base_uri": "https://localhost:8080/"
        },
        "id": "xrsRDxWLWL2O",
        "outputId": "332084b8-5313-4af5-9ad3-d678742c1a6c"
      },
      "execution_count": 62,
      "outputs": [
        {
          "output_type": "stream",
          "name": "stdout",
          "text": [
            "Saved model to disk\n"
          ]
        }
      ]
    },
    {
      "cell_type": "code",
      "source": [
        "\n",
        "# load json and create model\n",
        "json_file = open('model.json', 'r')\n",
        "loaded_model_json = json_file.read()\n",
        "json_file.close()\n",
        "loaded_model = model_from_json(loaded_model_json)\n",
        "# load weights into new model\n",
        "loaded_model.load_weights(\"model.h5\")\n",
        "print(\"Loaded model from disk\")\n",
        " \n",
        "# evaluate loaded model on test data\n",
        "loaded_model.compile(loss='binary_crossentropy', optimizer='rmsprop', metrics=['accuracy'])\n",
        "score = loaded_model.evaluate(X_test,Y_test,verbose=0)\n",
        "print(\"%s: %.2f%%\" % (loaded_model.metrics_names[1], score[1]*100))"
      ],
      "metadata": {
        "_uuid": "445bf6e98ede72422415295c729484fea658919b",
        "trusted": true,
        "id": "cTLfj0-HCiPB",
        "colab": {
          "base_uri": "https://localhost:8080/"
        },
        "outputId": "8cbc5462-1a0a-447b-95a8-27f1ee024494"
      },
      "execution_count": 63,
      "outputs": [
        {
          "output_type": "stream",
          "name": "stdout",
          "text": [
            "Loaded model from disk\n",
            "accuracy: 97.67%\n"
          ]
        }
      ]
    },
    {
      "cell_type": "code",
      "source": [
        "for key in history.history.keys():\n",
        "    print(key)"
      ],
      "metadata": {
        "colab": {
          "base_uri": "https://localhost:8080/"
        },
        "id": "T0_45GEvSnIa",
        "outputId": "3a789449-c95d-4bc5-b404-d6a05ced34b2"
      },
      "execution_count": 64,
      "outputs": [
        {
          "output_type": "stream",
          "name": "stdout",
          "text": [
            "loss\n",
            "accuracy\n",
            "val_loss\n",
            "val_accuracy\n"
          ]
        }
      ]
    },
    {
      "cell_type": "code",
      "source": [
        "plt.figure(figsize=(14,5))\n",
        "plt.subplot(1, 2, 1)\n",
        "plt.suptitle('Train Results', fontsize=10)\n",
        "plt.xlabel(\"Number of Epochs\")\n",
        "plt.ylabel('Loss', fontsize=16)\n",
        "plt.plot(history.history['loss'], color='b', label='Training Loss')\n",
        "plt.plot(history.history['val_loss'], color='r', label='Validation Loss')\n",
        "plt.legend(loc='upper right')\n",
        "\n",
        "plt.subplot(1, 2, 2)\n",
        "plt.ylabel('Accuracy', fontsize=16)\n",
        "plt.plot(history.history['accuracy'], color='green', label='Training Accuracy')\n",
        "plt.plot(history.history['val_accuracy'], color='orange', label='Validation Accuracy')\n",
        "plt.legend(loc='lower right')\n",
        "plt.show()"
      ],
      "metadata": {
        "_uuid": "5608e6a2519e89a4f8fde37e6998f772b1e4f5f4",
        "trusted": true,
        "id": "jSW0JyFfCiPJ",
        "colab": {
          "base_uri": "https://localhost:8080/",
          "height": 373
        },
        "outputId": "50a2f44e-0b9f-4a19-cfd0-8df15f603edc"
      },
      "execution_count": 65,
      "outputs": [
        {
          "output_type": "display_data",
          "data": {
            "text/plain": [
              "<Figure size 1008x360 with 2 Axes>"
            ],
            "image/png": "[encoded data removed]"
          },
          "metadata": {
            "needs_background": "light"
          }
        }
      ]
    },
    {
      "cell_type": "code",
      "source": [
        "print('Train accuracy of the model: ',history.history['accuracy'][-1])"
      ],
      "metadata": {
        "_uuid": "dda6b5a37532ceb54855c1d9ae32d6a54fd0e34e",
        "trusted": true,
        "id": "fY-f8QbvCiPJ",
        "colab": {
          "base_uri": "https://localhost:8080/"
        },
        "outputId": "c947c87c-df01-4155-f4c1-dcbec2aa4f6f"
      },
      "execution_count": 66,
      "outputs": [
        {
          "output_type": "stream",
          "name": "stdout",
          "text": [
            "Train accuracy of the model:  0.9465000033378601\n"
          ]
        }
      ]
    },
    {
      "cell_type": "code",
      "source": [
        "print('Train loss of the model: ',history.history['loss'][-1])"
      ],
      "metadata": {
        "_uuid": "8cd7b694506b84ad3c5f0e77b7f77a33ac41475a",
        "trusted": true,
        "id": "ndvd06sZCiPK",
        "colab": {
          "base_uri": "https://localhost:8080/"
        },
        "outputId": "c0cdcffb-172d-48b0-9530-8559acac2f25"
      },
      "execution_count": 67,
      "outputs": [
        {
          "output_type": "stream",
          "name": "stdout",
          "text": [
            "Train loss of the model:  0.18311874568462372\n"
          ]
        }
      ]
    },
    {
      "cell_type": "code",
      "source": [
        "print('Validation accuracy of the model: ',history.history['val_accuracy'][-1])"
      ],
      "metadata": {
        "_uuid": "98883a4317a10f4e5fbd94b9b4c7402aa01e3b5a",
        "trusted": true,
        "id": "ZR0LsS-DCiPK",
        "colab": {
          "base_uri": "https://localhost:8080/"
        },
        "outputId": "125822d3-fe65-4656-f5cf-019f2b2a0db4"
      },
      "execution_count": 68,
      "outputs": [
        {
          "output_type": "stream",
          "name": "stdout",
          "text": [
            "Validation accuracy of the model:  0.9750000238418579\n"
          ]
        }
      ]
    },
    {
      "cell_type": "code",
      "source": [
        "print('Validation loss of the model: ',history.history['val_loss'][-1])"
      ],
      "metadata": {
        "_uuid": "fa117dece3d3cc38e174ee8b5f6978d685f31e86",
        "trusted": true,
        "id": "cB5pA2LmCiPK",
        "colab": {
          "base_uri": "https://localhost:8080/"
        },
        "outputId": "93bc16d7-1faf-4efc-d64a-2c922ab14ad9"
      },
      "execution_count": 69,
      "outputs": [
        {
          "output_type": "stream",
          "name": "stdout",
          "text": [
            "Validation loss of the model:  0.08719662576913834\n"
          ]
        }
      ]
    },
    {
      "cell_type": "code",
      "source": [
        "score = model.evaluate(X_test,Y_test,verbose=0)\n",
        "print(\"Test Loss:\",score[0])\n",
        "print(\"Test Accuracy:\",score[1])"
      ],
      "metadata": {
        "_uuid": "1a45f220bc2a2e7d28958d6f48f97dd9142aa904",
        "trusted": true,
        "id": "iTS89-sqCiPK",
        "colab": {
          "base_uri": "https://localhost:8080/"
        },
        "outputId": "a5f88bee-0a23-434d-f5a4-36fbb3dd3356"
      },
      "execution_count": 70,
      "outputs": [
        {
          "output_type": "stream",
          "name": "stdout",
          "text": [
            "Test Loss: 0.07370901852846146\n",
            "Test Accuracy: 0.9767000079154968\n"
          ]
        }
      ]
    },
    {
      "cell_type": "code",
      "source": [
        "print(X_test.shape)\n",
        "plt.imshow(X_test[100].reshape(28,28),cmap=\"gray\")\n",
        "plt.axis(\"off\")\n",
        "plt.show()"
      ],
      "metadata": {
        "_uuid": "9d9ecc970bb26e5a24bdd5eb2565514a19940401",
        "trusted": true,
        "id": "4SM_REdLCiPK",
        "colab": {
          "base_uri": "https://localhost:8080/",
          "height": 530
        },
        "outputId": "43870476-aeb2-4dd5-f0a2-ba9d7dbc7d4a"
      },
      "execution_count": 71,
      "outputs": [
        {
          "output_type": "stream",
          "name": "stdout",
          "text": [
            "(10000, 28, 28, 1)\n"
          ]
        },
        {
          "output_type": "display_data",
          "data": {
            "text/plain": [
              "<Figure size 1008x504 with 1 Axes>"
            ],
            "image/png": "[encoded data removed]"
          },
          "metadata": {
            "needs_background": "light"
          }
        }
      ]
    },
    {
      "cell_type": "code",
      "source": [
        "trueY = Y_test[100]\n",
        "img = X_test[100]\n",
        "test_img = img.reshape(1,28,28,1)\n",
        "\n",
        "preds=model.predict(test_img)\n",
        "\n",
        "prob=np.argmax(preds,axis=1)\n",
        "\n",
        "\n",
        "\n",
        "print(\"trueY: \",np.argmax(trueY))#içlerinden en yüksek olan değeri seçer\n",
        "print(\"Preds: \",preds)\n",
        "print(\"Prob: \",prob)"
      ],
      "metadata": {
        "_uuid": "fa6bdbb341f866317d3b03f1fc5f8cb884dcb0ed",
        "trusted": true,
        "id": "60guvzYoCiPL",
        "colab": {
          "base_uri": "https://localhost:8080/"
        },
        "outputId": "66f9cc23-c190-4a15-c18a-c4e4085bc626"
      },
      "execution_count": 26,
      "outputs": [
        {
          "output_type": "stream",
          "name": "stdout",
          "text": [
            "1/1 [==============================] - 0s 197ms/step\n",
            "trueY:  6\n",
            "Preds:  [[6.5756845e-05 1.0537887e-08 5.1037290e-08 1.6791066e-08 2.0129326e-06\n",
            "  2.8091604e-06 9.9992871e-01 3.7327275e-09 5.2903755e-07 9.5156906e-08]]\n",
            "Prob:  [6]\n"
          ]
        }
      ]
    },
    {
      "cell_type": "code",
      "source": [
        "Y_pred = model.predict(X_test)\n",
        "Y_pred_classes = np.argmax(Y_pred, axis = 1)\n",
        "Y_true = np.argmax(Y_test, axis = 1)\n",
        "confusion_mtx = confusion_matrix(Y_true, Y_pred_classes) \n",
        "\n",
        "f,ax = plt.subplots(figsize = (12,12))\n",
        "sns.heatmap(confusion_mtx, annot=True, linewidths=0.1, cmap = \"gist_yarg_r\", linecolor=\"black\", fmt='.0f', ax=ax)\n",
        "plt.xlabel(\"Predicted Label\")\n",
        "plt.ylabel(\"True Label\")\n",
        "plt.title(\"Confusion Matrix\")\n",
        "plt.show()"
      ],
      "metadata": {
        "_uuid": "28e22010e8082ac9d6cf9a305bc9583aea1bb562",
        "trusted": true,
        "id": "gid7hwbjCiPM",
        "colab": {
          "base_uri": "https://localhost:8080/",
          "height": 747
        },
        "outputId": "1f5c4eff-305a-4600-ec85-4144b7362243"
      },
      "execution_count": 27,
      "outputs": [
        {
          "output_type": "stream",
          "name": "stdout",
          "text": [
            "313/313 [==============================] - 2s 5ms/step\n"
          ]
        },
        {
          "output_type": "display_data",
          "data": {
            "text/plain": [
              "<Figure size 864x864 with 2 Axes>"
            ],
            "image/png": "[encoded data removed]"
          },
          "metadata": {
            "needs_background": "light"
          }
        }
      ]
    },
    {
      "cell_type": "code",
      "source": [
        "for i in range(len(confusion_mtx)):\n",
        "    print(\"Class:\",str(i))\n",
        "    print(\"Number of Wrong Prediction:\", str(sum(confusion_mtx[i])-confusion_mtx[i][i]), \"out of 1000\")\n",
        "    print(\"Percentage of True Prediction: {:.2f}%\".format(confusion_mtx[i][i] / 10))\n",
        "    print(\"***********************************************************\")"
      ],
      "metadata": {
        "_uuid": "45dfe20b60489778caaa049d3b36831f3b3e285c",
        "scrolled": true,
        "trusted": true,
        "id": "J8bWtAokCiPO",
        "colab": {
          "base_uri": "https://localhost:8080/"
        },
        "outputId": "77774f0e-abe1-4834-8fa1-8763dbb1ac29"
      },
      "execution_count": 28,
      "outputs": [
        {
          "output_type": "stream",
          "name": "stdout",
          "text": [
            "Class: 0\n",
            "Number of Wrong Prediction: 14 out of 1000\n",
            "Percentage of True Prediction: 96.60%\n",
            "***********************************************************\n",
            "Class: 1\n",
            "Number of Wrong Prediction: 15 out of 1000\n",
            "Percentage of True Prediction: 112.00%\n",
            "***********************************************************\n",
            "Class: 2\n",
            "Number of Wrong Prediction: 11 out of 1000\n",
            "Percentage of True Prediction: 102.10%\n",
            "***********************************************************\n",
            "Class: 3\n",
            "Number of Wrong Prediction: 32 out of 1000\n",
            "Percentage of True Prediction: 97.80%\n",
            "***********************************************************\n",
            "Class: 4\n",
            "Number of Wrong Prediction: 31 out of 1000\n",
            "Percentage of True Prediction: 95.10%\n",
            "***********************************************************\n",
            "Class: 5\n",
            "Number of Wrong Prediction: 26 out of 1000\n",
            "Percentage of True Prediction: 86.60%\n",
            "***********************************************************\n",
            "Class: 6\n",
            "Number of Wrong Prediction: 20 out of 1000\n",
            "Percentage of True Prediction: 93.80%\n",
            "***********************************************************\n",
            "Class: 7\n",
            "Number of Wrong Prediction: 34 out of 1000\n",
            "Percentage of True Prediction: 99.40%\n",
            "***********************************************************\n",
            "Class: 8\n",
            "Number of Wrong Prediction: 49 out of 1000\n",
            "Percentage of True Prediction: 92.50%\n",
            "***********************************************************\n",
            "Class: 9\n",
            "Number of Wrong Prediction: 76 out of 1000\n",
            "Percentage of True Prediction: 93.30%\n",
            "***********************************************************\n"
          ]
        }
      ]
    },
    {
      "cell_type": "code",
      "source": [
        "from google.colab import drive\n",
        "drive.mount('/content/drive')"
      ],
      "metadata": {
        "colab": {
          "base_uri": "https://localhost:8080/"
        },
        "id": "YU_Hq88pCPVg",
        "outputId": "948aabdf-bdc0-4305-b8a4-0ffacd6ff471"
      },
      "execution_count": 37,
      "outputs": [
        {
          "output_type": "stream",
          "name": "stdout",
          "text": [
            "Drive already mounted at /content/drive; to attempt to forcibly remount, call drive.mount(\"/content/drive\", force_remount=True).\n"
          ]
        }
      ]
    },
    {
      "cell_type": "code",
      "source": [
        "%cd /content/drive/MyDrive/Colab Notebooks/\n",
        "\n"
      ],
      "metadata": {
        "id": "Jq4E8_cZB_dm",
        "colab": {
          "base_uri": "https://localhost:8080/"
        },
        "outputId": "f91c988e-f47b-477f-d914-9b8e01c4a6a6"
      },
      "execution_count": 73,
      "outputs": [
        {
          "output_type": "stream",
          "name": "stdout",
          "text": [
            "/content/drive/MyDrive/Colab Notebooks\n"
          ]
        }
      ]
    },
    {
      "cell_type": "code",
      "source": [
        "import os\n",
        "csv_path = os.path.join(\"layervariation.csv\")\n",
        "df = pd.read_csv(csv_path)\n",
        "df\n",
        "plt.rcParams[\"figure.figsize\"] = [14.00, 7.0]\n",
        "plt.rcParams[\"figure.autolayout\"] = True\n",
        "plt.xlim(2, 12)\n",
        "plt.ylim(97.5, 99.5)\n",
        "plt.xticks([2,3,4,5,6,7,8,9,10,11])\n",
        "x= [2,3,4,5,6,7,8,9,10,11]\n",
        "plt.axes().set_xticklabels(['(1,1,1,1)', '(32,32,32,32)', '(4,4,4,4)', '(8,8,8,8)', '(16,16,16,16)', '(32,32,64,64)', '(64,64,64,64)', '(64,64,512,512)', '(128,128,128,128)', '(64,64,128,128)'])\n",
        "plt.grid()\n",
        "plt.plot(x, df[\"accuracy\"]*100, marker=\"o\", markersize=10, markeredgecolor=\"red\", markerfacecolor=\"green\")\n",
        "plt.show()\n"
      ],
      "metadata": {
        "id": "Vf9iVbfpnebO",
        "colab": {
          "base_uri": "https://localhost:8080/",
          "height": 513
        },
        "outputId": "8c962ce5-74bb-4159-d932-04047d3a57a9"
      },
      "execution_count": 53,
      "outputs": [
        {
          "output_type": "display_data",
          "data": {
            "text/plain": [
              "<Figure size 1008x504 with 1 Axes>"
            ],
            "image/png": "[encoded data removed]"
          },
          "metadata": {
            "needs_background": "light"
          }
        }
      ]
    },
    {
      "cell_type": "code",
      "source": [
        "\n",
        "import os\n",
        "csv_path = os.path.join(\"stridevariation.csv\")\n",
        "df = pd.read_csv(csv_path)\n",
        "df\n",
        "plt.rcParams[\"figure.figsize\"] = [14.00, 7.0]\n",
        "plt.rcParams[\"figure.autolayout\"] = True\n",
        "plt.xlim(2, 7)\n",
        "plt.ylim(20, 99.5)\n",
        "plt.xticks([2,3,4,5,6])\n",
        "x= [2,3,4,5,6]\n",
        "plt.axes().set_xticklabels(['(15,15)', '(10,10)', '(7,7)', '(5,5)', '(3,3)'])\n",
        "plt.grid()\n",
        "plt.plot(x, df[\"accuracy\"]*100, marker=\"o\", markersize=6, markeredgecolor=\"red\", markerfacecolor=\"green\")\n",
        "plt.show()"
      ],
      "metadata": {
        "id": "81w1vp_wbHpD",
        "colab": {
          "base_uri": "https://localhost:8080/",
          "height": 513
        },
        "outputId": "50482646-f10a-4daf-dfc4-89a2268da7fb"
      },
      "execution_count": 79,
      "outputs": [
        {
          "output_type": "display_data",
          "data": {
            "text/plain": [
              "<Figure size 1008x504 with 1 Axes>"
            ],
            "image/png": "[encoded data removed]"
          },
          "metadata": {
            "needs_background": "light"
          }
        }
      ]
    },
    {
      "cell_type": "code",
      "source": [
        "\n",
        "\n",
        "import os\n",
        "csv_path = os.path.join(\"filtervariation.csv\")\n",
        "df = pd.read_csv(csv_path)\n",
        "df\n",
        "plt.rcParams[\"figure.figsize\"] = [14.00, 7.0]\n",
        "plt.rcParams[\"figure.autolayout\"] = True\n",
        "plt.xlim(2, 6)\n",
        "plt.ylim(97.5, 99.5)\n",
        "plt.xticks([2,3,4,5])\n",
        "x= [2,3,4,5]\n",
        "plt.axes().set_xticklabels(['(12,12)', '(24,24)', '(6,6)', '(3,3)'])\n",
        "plt.grid()\n",
        "plt.plot(x, df[\"accuracy\"]*100, marker=\"o\", markersize=6, markeredgecolor=\"red\", markerfacecolor=\"green\")\n",
        "plt.show()"
      ],
      "metadata": {
        "id": "Ftxfeqr0cg1I",
        "colab": {
          "base_uri": "https://localhost:8080/",
          "height": 513
        },
        "outputId": "3a35d9ea-c895-47ec-bdd5-b0043b910137"
      },
      "execution_count": 85,
      "outputs": [
        {
          "output_type": "display_data",
          "data": {
            "text/plain": [
              "<Figure size 1008x504 with 1 Axes>"
            ],
            "image/png": "[encoded data removed]"
          },
          "metadata": {
            "needs_background": "light"
          }
        }
      ]
    },
    {
      "cell_type": "code",
      "source": [],
      "metadata": {
        "id": "yqPoZ9WrCiLB"
      },
      "execution_count": null,
      "outputs": []
    }
  ]
}