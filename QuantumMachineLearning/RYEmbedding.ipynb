{
  "cells": [
    {
      "cell_type": "code",
      "execution_count": 39,
      "metadata": {
        "colab": {
          "base_uri": "https://localhost:8080/"
        },
        "id": "lM5C5G18xKv6",
        "outputId": "d7f3ce5b-95e2-4e68-c8b6-973c86128979"
      },
      "outputs": [
        {
          "output_type": "stream",
          "name": "stdout",
          "text": [
            "Looking in indexes: https://pypi.org/simple, https://us-python.pkg.dev/colab-wheels/public/simple/\n",
            "Requirement already satisfied: pennylane in /usr/local/lib/python3.7/dist-packages (0.26.0)\n",
            "Requirement already satisfied: appdirs in /usr/local/lib/python3.7/dist-packages (from pennylane) (1.4.4)\n",
            "Requirement already satisfied: toml in /usr/local/lib/python3.7/dist-packages (from pennylane) (0.10.2)\n",
            "Requirement already satisfied: scipy in /usr/local/lib/python3.7/dist-packages (from pennylane) (1.7.3)\n",
            "Requirement already satisfied: cachetools in /usr/local/lib/python3.7/dist-packages (from pennylane) (4.2.4)\n",
            "Requirement already satisfied: numpy in /usr/local/lib/python3.7/dist-packages (from pennylane) (1.21.6)\n",
            "Requirement already satisfied: pennylane-lightning>=0.26 in /usr/local/lib/python3.7/dist-packages (from pennylane) (0.26.1)\n",
            "Requirement already satisfied: autograd in /usr/local/lib/python3.7/dist-packages (from pennylane) (1.5)\n",
            "Requirement already satisfied: semantic-version>=2.7 in /usr/local/lib/python3.7/dist-packages (from pennylane) (2.10.0)\n",
            "Requirement already satisfied: networkx in /usr/local/lib/python3.7/dist-packages (from pennylane) (2.6.3)\n",
            "Requirement already satisfied: autoray>=0.3.1 in /usr/local/lib/python3.7/dist-packages (from pennylane) (0.5.1)\n",
            "Requirement already satisfied: retworkx in /usr/local/lib/python3.7/dist-packages (from pennylane) (0.12.0)\n",
            "Requirement already satisfied: ninja in /usr/local/lib/python3.7/dist-packages (from pennylane-lightning>=0.26->pennylane) (1.10.2.4)\n",
            "Requirement already satisfied: future>=0.15.2 in /usr/local/lib/python3.7/dist-packages (from autograd->pennylane) (0.16.0)\n",
            "Requirement already satisfied: rustworkx==0.12.0 in /usr/local/lib/python3.7/dist-packages (from retworkx->pennylane) (0.12.0)\n"
          ]
        }
      ],
      "source": [
        "# This cell is added by sphinx-gallery\n",
        "# It can be customized to whatever you like\n",
        "%matplotlib inline\n",
        "%pip install pennylane\n"
      ]
    },
    {
      "cell_type": "code",
      "execution_count": 40,
      "metadata": {
        "id": "q7yU6BIrxKwF"
      },
      "outputs": [],
      "source": [
        "import pennylane as qml\n",
        "from pennylane import numpy as np\n",
        "from pennylane import AdamOptimizer\n",
        "from sklearn.preprocessing import MinMaxScaler\n",
        "import matplotlib.pyplot as plt\n",
        "import pandas as pd\n",
        "from sklearn import datasets\n"
      ]
    },
    {
      "cell_type": "code",
      "source": [
        "\n",
        "\n",
        "# load iris dataset\n",
        "iris = datasets.load_iris()\n",
        "# Since this is a bunch, create a dataframe\n",
        "iris_df=pd.DataFrame(iris.data)\n",
        "iris_df['class']=iris.target\n",
        "\n",
        "iris_df.columns=['sepal_len', 'sepal_wid', 'petal_len', 'petal_wid', 'class']\n",
        "iris_df = iris_df[iris_df['class'] != 2]\n",
        "iris_df.loc[iris_df[\"class\"] == 0, \"class\"] = 2\n",
        "iris_df.loc[iris_df[\"class\"] == 1, \"class\"] = -1\n",
        "iris_df.loc[iris_df[\"class\"] == 2, \"class\"] = 1\n",
        "\n",
        "Y = iris_df['class']\n",
        "X= iris_df.drop(columns=['class'])\n",
        "X= X.to_numpy()\n",
        "Y = Y.to_numpy()\n",
        "scaler = MinMaxScaler()\n",
        "normalized_data = scaler.fit_transform(X)\n",
        "X_norm = normalized_data* np.pi\n",
        "#normalization = np.sqrt(np.sum(X ** 2, -1))\n",
        "#X_norm = (X.T / normalization).T * np.pi\n",
        "#print(\"First X sample (normalized):\", X_norm[0])\n",
        "\n",
        "# angles for state preparation are new features\n",
        "# features = np.array([get_angles(x) for x in X_norm], requires_grad=False)\n",
        "# print(\"First features sample      :\", features[0])\n",
        "features = X_norm\n",
        "np.random.seed(0)\n",
        "num_data = len(Y)\n",
        "num_train = int(0.75 * num_data)\n",
        "index = np.random.permutation(range(num_data))\n",
        "feats_train = features[index[:num_train]]\n",
        "Y_train = Y[index[:num_train]]\n",
        "feats_val = features[index[num_train:]]\n",
        "Y_val = Y[index[num_train:]]\n",
        "\n",
        "# We need these later for plotting\n",
        "X_train = X[index[:num_train]]\n",
        "X_val = X[index[num_train:]]\n",
        "X_train.shape\n",
        "Y_train.shape"
      ],
      "metadata": {
        "colab": {
          "base_uri": "https://localhost:8080/"
        },
        "id": "5D20e6egEUOy",
        "outputId": "daf4e12a-4404-450c-dbe4-ad8c54a48ef7"
      },
      "execution_count": 41,
      "outputs": [
        {
          "output_type": "execute_result",
          "data": {
            "text/plain": [
              "(75,)"
            ]
          },
          "metadata": {},
          "execution_count": 41
        }
      ]
    },
    {
      "cell_type": "code",
      "execution_count": 42,
      "metadata": {
        "id": "LPusROLHxKwP"
      },
      "outputs": [],
      "source": [
        "def square_loss(labels, predictions):\n",
        "    loss = 0\n",
        "    for l, p in zip(labels, predictions):\n",
        "        loss = loss + (l - p) ** 2\n",
        "\n",
        "    loss = loss / len(labels)\n",
        "    return loss\n",
        "\n",
        "def accuracy(labels, predictions):\n",
        "\n",
        "    loss = 0\n",
        "    for l, p in zip(labels, predictions):\n",
        "        if abs(l - p) < 1e-5:\n",
        "            loss = loss + 1\n",
        "    loss = loss / len(labels)\n",
        "\n",
        "    return loss\n",
        "\n",
        "def cost(weights, bias, X, Y):\n",
        "    predictions = [variational_classifier(weights, bias, x) for x in X]\n",
        "    return square_loss(Y, predictions)\n"
      ]
    },
    {
      "cell_type": "code",
      "execution_count": 43,
      "metadata": {
        "id": "yoWXwb9JxKwU"
      },
      "outputs": [],
      "source": [
        "dev = qml.device(\"default.qubit\", wires=4)"
      ]
    },
    {
      "cell_type": "code",
      "execution_count": 44,
      "metadata": {
        "id": "0aboch0DxKwV"
      },
      "outputs": [],
      "source": [
        "def statepreparation(a):\n",
        "  qml.AngleEmbedding(features=a, wires=list(range(4)), rotation='Y')\n"
      ]
    },
    {
      "cell_type": "code",
      "execution_count": 45,
      "metadata": {
        "id": "l2KsALmuxKwW"
      },
      "outputs": [],
      "source": [
        "def layer(W):\n",
        "    qml.Rot(W[0, 0], W[0, 1], W[0, 2], wires=0)\n",
        "    qml.Rot(W[1, 0], W[1, 1], W[1, 2], wires=1)\n",
        "    qml.Rot(W[2, 0], W[2, 1], W[2, 2], wires=2)\n",
        "    qml.Rot(W[3, 0], W[3, 1], W[3, 2], wires=3)\n",
        "\n",
        "    qml.CNOT(wires=[0, 1])\n",
        "    qml.CNOT(wires=[1, 2])\n",
        "    qml.CNOT(wires=[2, 3])\n",
        "    qml.CNOT(wires=[3, 0])\n",
        "\n",
        "\n",
        "    "
      ]
    },
    {
      "cell_type": "code",
      "execution_count": 46,
      "metadata": {
        "id": "KNJ0NnRmxKwW"
      },
      "outputs": [],
      "source": [
        "@qml.qnode(dev)\n",
        "def circuit(weights, angles):\n",
        "    statepreparation(angles)\n",
        "\n",
        "    for W in weights:\n",
        "        layer(W)\n",
        "\n",
        "    return qml.expval(qml.PauliZ(0))\n",
        "\n",
        "\n",
        "def variational_classifier(weights, bias, angles):\n",
        "    return circuit(weights, angles) + bias\n",
        "\n",
        "\n",
        "def cost(weights, bias, features, labels):\n",
        "    predictions = [variational_classifier(weights, bias, f) for f in features]\n",
        "    return square_loss(labels, predictions)\n"
      ]
    },
    {
      "cell_type": "code",
      "source": [
        "#@qml.qnode(dev, diff_method=\"backprop\")\n",
        "\n",
        "\n",
        "num_qubits = 4\n",
        "num_layers = 6\n",
        "\n",
        "weights_init = 0.01 * np.random.randn(num_layers, num_qubits, 3, requires_grad=True)\n",
        "bias_init = np.array(0.0, requires_grad=True)\n",
        "\n",
        "opt = qml.AdamOptimizer()\n",
        "batch_size = 5\n",
        "\n",
        "# train the variational classifier\n",
        "weights = weights_init\n",
        "bias = bias_init\n",
        "graph = pd.DataFrame( columns = [\"iter\", \"cost\",\"acc_train\", \"acc_val\"] )\n",
        "for it in range(25):\n",
        "\n",
        "    # Update the weights by one optimizer step\n",
        "    batch_index = np.random.randint(0, num_train, (batch_size,))\n",
        "    feats_train_batch = feats_train[batch_index]\n",
        "    Y_train_batch = Y_train[batch_index]\n",
        "    weights, bias, _, _ = opt.step(cost, weights, bias, feats_train_batch, Y_train_batch)\n",
        "\n",
        "    # Compute predictions on train and validation set\n",
        "    predictions_train = [np.sign(variational_classifier(weights, bias, f)) for f in feats_train]\n",
        "    predictions_val = [np.sign(variational_classifier(weights, bias, f)) for f in feats_val]\n",
        "\n",
        "    # Compute accuracy on train and validation set\n",
        "    acc_train = accuracy(Y_train, predictions_train)\n",
        "    acc_val = accuracy(Y_val, predictions_val)\n",
        "    graph = graph.append({'iter' : it + 1, 'cost' : cost(weights, bias, features, Y),'acc_train':acc_train,'acc_val':acc_val}, ignore_index=True)\n",
        "    print(\n",
        "        \"Iter: {:5d} | Cost: {:0.7f} | Acc train: {:0.7f} | Acc validation: {:0.7f} \"\n",
        "        \"\".format(it + 1, cost(weights, bias, features, Y), acc_train, acc_val)\n",
        "    )\n",
        "\n",
        "# graph cost vs \n",
        "\n",
        "acc_train = graph['acc_train']\n",
        "acc_val = graph['acc_val']\n",
        "epochs = graph['iter']\n",
        "plt.plot(epochs, acc_train, 'g', label='Training accuracy')\n",
        "plt.plot(epochs, acc_val, 'b', label='validation accuracy')\n",
        "plt.title('Train accuracy and Validation accuracy')\n",
        "plt.xlabel('Epochs')\n",
        "plt.ylabel('Accuracy')\n",
        "plt.legend()\n",
        "plt.show()\n",
        "\n",
        "# graph cost vs \n",
        "\n",
        "cost = graph['cost']\n",
        "\n",
        "epochs = graph['iter']\n",
        "plt.plot(epochs, cost, 'g', label='Cost')\n",
        "plt.title('Cost v/s epoch')\n",
        "plt.xlabel('Epochs')\n",
        "plt.ylabel('Cost')\n",
        "plt.legend()\n",
        "plt.show()"
      ],
      "metadata": {
        "colab": {
          "base_uri": "https://localhost:8080/",
          "height": 1000
        },
        "id": "u3YkQN3m1fsH",
        "outputId": "45207849-5717-4a23-a351-4f5f81361792"
      },
      "execution_count": 47,
      "outputs": [
        {
          "output_type": "stream",
          "name": "stdout",
          "text": [
            "Iter:     1 | Cost: 1.0234974 | Acc train: 0.6000000 | Acc validation: 0.7200000 \n",
            "Iter:     2 | Cost: 0.9803951 | Acc train: 0.6000000 | Acc validation: 0.7200000 \n",
            "Iter:     3 | Cost: 0.9455198 | Acc train: 0.6000000 | Acc validation: 0.7200000 \n",
            "Iter:     4 | Cost: 0.9113259 | Acc train: 0.6533333 | Acc validation: 0.7200000 \n",
            "Iter:     5 | Cost: 0.8763812 | Acc train: 0.6533333 | Acc validation: 0.7200000 \n",
            "Iter:     6 | Cost: 0.8410492 | Acc train: 0.6533333 | Acc validation: 0.7200000 \n",
            "Iter:     7 | Cost: 0.8050143 | Acc train: 0.6533333 | Acc validation: 0.7200000 \n",
            "Iter:     8 | Cost: 0.7698543 | Acc train: 0.6800000 | Acc validation: 0.7600000 \n",
            "Iter:     9 | Cost: 0.7318581 | Acc train: 0.7466667 | Acc validation: 0.8000000 \n",
            "Iter:    10 | Cost: 0.6956878 | Acc train: 0.7600000 | Acc validation: 0.8000000 \n",
            "Iter:    11 | Cost: 0.6583774 | Acc train: 0.7733333 | Acc validation: 0.8000000 \n",
            "Iter:    12 | Cost: 0.6200896 | Acc train: 0.8266667 | Acc validation: 0.8400000 \n",
            "Iter:    13 | Cost: 0.5816996 | Acc train: 0.8400000 | Acc validation: 0.8400000 \n",
            "Iter:    14 | Cost: 0.5444816 | Acc train: 0.8400000 | Acc validation: 0.8400000 \n",
            "Iter:    15 | Cost: 0.5091065 | Acc train: 0.8533333 | Acc validation: 0.8800000 \n",
            "Iter:    16 | Cost: 0.4752404 | Acc train: 0.8800000 | Acc validation: 0.9200000 \n",
            "Iter:    17 | Cost: 0.4436983 | Acc train: 0.8800000 | Acc validation: 0.9600000 \n",
            "Iter:    18 | Cost: 0.4142006 | Acc train: 0.9066667 | Acc validation: 1.0000000 \n",
            "Iter:    19 | Cost: 0.3860395 | Acc train: 0.9200000 | Acc validation: 1.0000000 \n",
            "Iter:    20 | Cost: 0.3592055 | Acc train: 0.9333333 | Acc validation: 1.0000000 \n",
            "Iter:    21 | Cost: 0.3348234 | Acc train: 0.9333333 | Acc validation: 1.0000000 \n",
            "Iter:    22 | Cost: 0.3132172 | Acc train: 0.9466667 | Acc validation: 1.0000000 \n",
            "Iter:    23 | Cost: 0.2930691 | Acc train: 0.9466667 | Acc validation: 1.0000000 \n",
            "Iter:    24 | Cost: 0.2744627 | Acc train: 0.9600000 | Acc validation: 1.0000000 \n",
            "Iter:    25 | Cost: 0.2592399 | Acc train: 0.9733333 | Acc validation: 1.0000000 \n"
          ]
        },
        {
          "output_type": "display_data",
          "data": {
            "text/plain": [
              "<Figure size 432x288 with 1 Axes>"
            ],
            "image/png": "[encoded data removed]"
          },
          "metadata": {
            "needs_background": "light"
          }
        },
        {
          "output_type": "display_data",
          "data": {
            "text/plain": [
              "<Figure size 432x288 with 1 Axes>"
            ],
            "image/png": "[encoded data removed]"
          },
          "metadata": {
            "needs_background": "light"
          }
        }
      ]
    }
  ],
  "metadata": {
    "kernelspec": {
      "display_name": "Python 3",
      "language": "python",
      "name": "python3"
    },
    "language_info": {
      "codemirror_mode": {
        "name": "ipython",
        "version": 3
      },
      "file_extension": ".py",
      "mimetype": "text/x-python",
      "name": "python",
      "nbconvert_exporter": "python",
      "pygments_lexer": "ipython3",
      "version": "3.7.15"
    },
    "colab": {
      "provenance": [],
      "collapsed_sections": []
    },
    "gpuClass": "standard"
  },
  "nbformat": 4,
  "nbformat_minor": 0
}