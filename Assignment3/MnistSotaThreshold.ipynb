{
  "metadata": {
    "kernelspec": {
      "display_name": "Python 3",
      "language": "python",
      "name": "python3"
    },
    "language_info": {
      "name": "python",
      "version": "3.6.6",
      "mimetype": "text/x-python",
      "codemirror_mode": {
        "name": "ipython",
        "version": 3
      },
      "pygments_lexer": "ipython3",
      "nbconvert_exporter": "python",
      "file_extension": ".py"
    },
    "colab": {
      "provenance": []
    },
    "accelerator": "GPU"
  },
  "nbformat_minor": 0,
  "nbformat": 4,
  "cells": [
    {
      "cell_type": "code",
      "source": [
        "\n",
        "\n",
        "import numpy as np # linear algebra\n",
        "import pandas as pd # data processing, CSV file I/O (e.g. pd.read_csv)\n",
        "import matplotlib.pyplot as plt\n",
        "import seaborn as sns\n",
        "from tensorflow import keras\n",
        "\n",
        "# import warnings\n",
        "import warnings\n",
        "# filter warnings\n",
        "warnings.filterwarnings('ignore')\n"
      ],
      "metadata": {
        "_uuid": "8f2839f25d086af736a60e9eeb907d3b93b6e0e5",
        "_cell_guid": "b1076dfc-b9ad-4769-8c92-a6c4dae69d19",
        "trusted": true,
        "id": "2dLVdjnDCiOn"
      },
      "execution_count": 1,
      "outputs": []
    },
    {
      "cell_type": "code",
      "source": [
        "\n",
        "(X_train, Y_train), (X_test, Y_test) = keras.datasets.mnist.load_data()\n",
        "\n"
      ],
      "metadata": {
        "_uuid": "14d12bc63b325f054a02a93d702d4b99225147a6",
        "trusted": true,
        "colab": {
          "base_uri": "https://localhost:8080/"
        },
        "id": "11Z_oqJKCiOz",
        "outputId": "f05668f7-d044-4714-8aca-64d35668a35f"
      },
      "execution_count": 2,
      "outputs": [
        {
          "output_type": "stream",
          "name": "stdout",
          "text": [
            "Downloading data from https://storage.googleapis.com/tensorflow/tf-keras-datasets/mnist.npz\n",
            "11493376/11490434 [==============================] - 0s 0us/step\n",
            "11501568/11490434 [==============================] - 0s 0us/step\n"
          ]
        }
      ]
    },
    {
      "cell_type": "code",
      "source": [
        "plt.figure(figsize=(14,8))\n",
        "sns.countplot(Y_train, palette=\"icefire\")\n",
        "plt.title(\"Number of classes\")\n",
        "plt.show()"
      ],
      "metadata": {
        "_uuid": "626d7b433cf37dbc1f70b97d1fb42474c539f6c0",
        "trusted": true,
        "colab": {
          "base_uri": "https://localhost:8080/",
          "height": 499
        },
        "id": "BaQ6GLlwCiOz",
        "outputId": "93a64d3d-7a1b-4fc1-83a0-00dac42658a2"
      },
      "execution_count": 3,
      "outputs": [
        {
          "output_type": "display_data",
          "data": {
            "text/plain": [
              "<Figure size 1008x576 with 1 Axes>"
            ],
            "image/png": "[encoded data removed]"
          },
          "metadata": {
            "needs_background": "light"
          }
        }
      ]
    },
    {
      "cell_type": "code",
      "source": [
        "plt.figure(figsize=(14,8))\n",
        "sns.countplot(Y_test, palette=\"icefire\")\n",
        "plt.title(\"Number of classes\")\n",
        "plt.show()"
      ],
      "metadata": {
        "_uuid": "3dbf37d3b49eae94e28ff18da5664d5d44437a51",
        "trusted": true,
        "colab": {
          "base_uri": "https://localhost:8080/",
          "height": 499
        },
        "id": "u9n-4VPNCiOz",
        "outputId": "076a0852-d9a9-47c9-fd4b-383588b0a980"
      },
      "execution_count": 4,
      "outputs": [
        {
          "output_type": "display_data",
          "data": {
            "text/plain": [
              "<Figure size 1008x576 with 1 Axes>"
            ],
            "image/png": "[encoded data removed]"
          },
          "metadata": {
            "needs_background": "light"
          }
        }
      ]
    },
    {
      "cell_type": "code",
      "source": [
        "# Normalize the data\n",
        "X_train = X_train / 255.0\n",
        "X_test = X_test / 255.0\n",
        "print(\"X_train shape: \",X_train.shape)\n",
        "print(\"X_test shape: \",X_test.shape)"
      ],
      "metadata": {
        "_uuid": "1f59b93f6f395b11433cecc1893b16209b2a007a",
        "trusted": true,
        "colab": {
          "base_uri": "https://localhost:8080/"
        },
        "id": "sm_VICSuCiO3",
        "outputId": "d2adc177-ba37-4d51-88d5-5de8f8b4328b"
      },
      "execution_count": 5,
      "outputs": [
        {
          "output_type": "stream",
          "name": "stdout",
          "text": [
            "X_train shape:  (60000, 28, 28)\n",
            "X_test shape:  (10000, 28, 28)\n"
          ]
        }
      ]
    },
    {
      "cell_type": "code",
      "source": [
        "# Reshaping\n",
        "X_train = X_train.reshape(-1,28,28,1)\n",
        "X_test = X_test.reshape(-1,28,28,1)\n",
        "print(\"X_train shape: \",X_train.shape)\n",
        "print(\"X_test shape: \",X_test.shape)"
      ],
      "metadata": {
        "_uuid": "04e3cb5505820bc4ae7a491cee2ede8e9a1cf67f",
        "trusted": true,
        "colab": {
          "base_uri": "https://localhost:8080/"
        },
        "id": "jIcpNeNTCiO4",
        "outputId": "0921962a-f961-4002-a8e0-bf0b4f298d1f"
      },
      "execution_count": 6,
      "outputs": [
        {
          "output_type": "stream",
          "name": "stdout",
          "text": [
            "X_train shape:  (60000, 28, 28, 1)\n",
            "X_test shape:  (10000, 28, 28, 1)\n"
          ]
        }
      ]
    },
    {
      "cell_type": "code",
      "source": [
        "# Label Encoding (be careful! run just once!)\n",
        "from keras.utils.np_utils import to_categorical \n",
        "\n",
        "# convert to one-hot-encoding(one hot vectors)\n",
        "Y_train = to_categorical(Y_train, num_classes = 10)\n",
        "# convert to one-hot-encoding(one hot vectors)\n",
        "Y_test = to_categorical(Y_test, num_classes = 10)\n",
        "\n",
        "print(Y_train.shape)\n",
        "print(Y_test.shape)"
      ],
      "metadata": {
        "colab": {
          "base_uri": "https://localhost:8080/"
        },
        "id": "t-Dk770xHeVq",
        "outputId": "f99ef901-90a0-4fd0-8637-f02ad244b6d6"
      },
      "execution_count": 7,
      "outputs": [
        {
          "output_type": "stream",
          "name": "stdout",
          "text": [
            "(60000, 10)\n",
            "(10000, 10)\n"
          ]
        }
      ]
    },
    {
      "cell_type": "code",
      "source": [
        "# Split the train and the validation set for the fitting\n",
        "from sklearn.model_selection import train_test_split\n",
        "x_train, x_val, y_train, y_val = train_test_split(X_train, Y_train, test_size = 0.1, random_state = 2)\n",
        "print(\"x_train shape: \",x_train.shape)\n",
        "print(\"x_val shape: \",x_val.shape)\n",
        "print(\"y_train shape: \",y_train.shape)\n",
        "print(\"y_val shape :\",y_val.shape)"
      ],
      "metadata": {
        "_uuid": "99d0d3a2b67b6b591ec625276e7ddbe0c4390b4e",
        "trusted": true,
        "colab": {
          "base_uri": "https://localhost:8080/"
        },
        "id": "tjV1LfMsCiO4",
        "outputId": "e743fde4-a38c-43a4-d880-29b5188c9352"
      },
      "execution_count": 8,
      "outputs": [
        {
          "output_type": "stream",
          "name": "stdout",
          "text": [
            "x_train shape:  (54000, 28, 28, 1)\n",
            "x_val shape:  (6000, 28, 28, 1)\n",
            "y_train shape:  (54000, 10)\n",
            "y_val shape : (6000, 10)\n"
          ]
        }
      ]
    },
    {
      "cell_type": "code",
      "source": [
        "# Some examples\n",
        "plt.imshow(x_train[4].reshape(28,28),cmap=\"gray\")\n",
        "plt.axis(\"off\")\n",
        "plt.show()"
      ],
      "metadata": {
        "_uuid": "1ccd43bc97b3f908ff01099ade6b8030c24f930e",
        "trusted": true,
        "colab": {
          "base_uri": "https://localhost:8080/",
          "height": 248
        },
        "id": "hhX1FamjCiO5",
        "outputId": "53770a5a-c032-414d-ca13-e601b0048836"
      },
      "execution_count": 9,
      "outputs": [
        {
          "output_type": "display_data",
          "data": {
            "text/plain": [
              "<Figure size 432x288 with 1 Axes>"
            ],
            "image/png": "[encoded data removed]"
          },
          "metadata": {
            "needs_background": "light"
          }
        }
      ]
    },
    {
      "cell_type": "code",
      "source": [
        "import warnings\n",
        "warnings.filterwarnings('ignore')\n",
        "\n",
        "from sklearn.metrics import confusion_matrix\n",
        "\n",
        "from keras.models import Sequential, model_from_json\n",
        "from keras.layers import Dense, Conv2D, Activation, MaxPool2D, Flatten, Dropout, BatchNormalization\n",
        "from tensorflow.keras.optimizers import RMSprop, Adam\n",
        "from keras.preprocessing import image\n",
        "from keras.preprocessing.image import ImageDataGenerator\n",
        "from keras.callbacks import ModelCheckpoint\n",
        "\n",
        "model = Sequential()\n",
        "\n",
        "#1. LAYER\n",
        "model.add(Conv2D(filters = 32, kernel_size = (3,3), padding = 'Same', input_shape=(28, 28, 1)))\n",
        "model.add(BatchNormalization())\n",
        "model.add(Activation(\"relu\"))\n",
        "\n",
        "#2. LAYER\n",
        "model.add(Conv2D(filters = 32, kernel_size = (3,3), padding = 'Same'))\n",
        "model.add(BatchNormalization())\n",
        "model.add(Activation(\"relu\"))\n",
        "\n",
        "model.add(MaxPool2D(pool_size=(2, 2)))\n",
        "\n",
        "#3. LAYER\n",
        "model.add(Conv2D(filters = 64, kernel_size = (3,3), padding = 'Same'))\n",
        "model.add(BatchNormalization())\n",
        "model.add(Activation(\"relu\"))\n",
        "\n",
        "#4. LAYER\n",
        "model.add(Conv2D(filters = 64, kernel_size = (3,3), padding = 'Same'))\n",
        "model.add(BatchNormalization())\n",
        "model.add(Activation(\"relu\"))\n",
        "\n",
        "model.add(MaxPool2D(pool_size=(2, 2)))\n",
        "\n",
        "#FULLY CONNECTED LAYER\n",
        "model.add(Flatten())\n",
        "model.add(Dense(256))\n",
        "model.add(BatchNormalization())\n",
        "model.add(Activation(\"relu\"))\n",
        "model.add(Dropout(0.25))\n",
        "\n",
        "#OUTPUT LAYER\n",
        "model.add(Dense(10, activation='softmax'))"
      ],
      "metadata": {
        "_uuid": "ce10e9a012c550546b529183abd66ab075ff4ad8",
        "trusted": true,
        "id": "SHtBXAwQCiO5"
      },
      "execution_count": 10,
      "outputs": []
    },
    {
      "cell_type": "code",
      "source": [
        "model.summary()"
      ],
      "metadata": {
        "_uuid": "58fd25b66c22aaeeb62e06b3e674b457eba2a4c9",
        "trusted": true,
        "colab": {
          "base_uri": "https://localhost:8080/"
        },
        "id": "p5QKHNekCiO6",
        "outputId": "687a5412-dfeb-46d7-95e3-400051a81ad0"
      },
      "execution_count": 11,
      "outputs": [
        {
          "output_type": "stream",
          "name": "stdout",
          "text": [
            "Model: \"sequential\"\n",
            "_________________________________________________________________\n",
            " Layer (type)                Output Shape              Param #   \n",
            "=================================================================\n",
            " conv2d (Conv2D)             (None, 28, 28, 32)        320       \n",
            "                                                                 \n",
            " batch_normalization (BatchN  (None, 28, 28, 32)       128       \n",
            " ormalization)                                                   \n",
            "                                                                 \n",
            " activation (Activation)     (None, 28, 28, 32)        0         \n",
            "                                                                 \n",
            " conv2d_1 (Conv2D)           (None, 28, 28, 32)        9248      \n",
            "                                                                 \n",
            " batch_normalization_1 (Batc  (None, 28, 28, 32)       128       \n",
            " hNormalization)                                                 \n",
            "                                                                 \n",
            " activation_1 (Activation)   (None, 28, 28, 32)        0         \n",
            "                                                                 \n",
            " max_pooling2d (MaxPooling2D  (None, 14, 14, 32)       0         \n",
            " )                                                               \n",
            "                                                                 \n",
            " conv2d_2 (Conv2D)           (None, 14, 14, 64)        18496     \n",
            "                                                                 \n",
            " batch_normalization_2 (Batc  (None, 14, 14, 64)       256       \n",
            " hNormalization)                                                 \n",
            "                                                                 \n",
            " activation_2 (Activation)   (None, 14, 14, 64)        0         \n",
            "                                                                 \n",
            " conv2d_3 (Conv2D)           (None, 14, 14, 64)        36928     \n",
            "                                                                 \n",
            " batch_normalization_3 (Batc  (None, 14, 14, 64)       256       \n",
            " hNormalization)                                                 \n",
            "                                                                 \n",
            " activation_3 (Activation)   (None, 14, 14, 64)        0         \n",
            "                                                                 \n",
            " max_pooling2d_1 (MaxPooling  (None, 7, 7, 64)         0         \n",
            " 2D)                                                             \n",
            "                                                                 \n",
            " flatten (Flatten)           (None, 3136)              0         \n",
            "                                                                 \n",
            " dense (Dense)               (None, 256)               803072    \n",
            "                                                                 \n",
            " batch_normalization_4 (Batc  (None, 256)              1024      \n",
            " hNormalization)                                                 \n",
            "                                                                 \n",
            " activation_4 (Activation)   (None, 256)               0         \n",
            "                                                                 \n",
            " dropout (Dropout)           (None, 256)               0         \n",
            "                                                                 \n",
            " dense_1 (Dense)             (None, 10)                2570      \n",
            "                                                                 \n",
            "=================================================================\n",
            "Total params: 872,426\n",
            "Trainable params: 871,530\n",
            "Non-trainable params: 896\n",
            "_________________________________________________________________\n"
          ]
        }
      ]
    },
    {
      "cell_type": "code",
      "source": [
        "optimizer = Adam(lr=0.001, beta_1=0.9, beta_2=0.999, epsilon=None, decay=0.0, amsgrad=False)"
      ],
      "metadata": {
        "_uuid": "40b63722a499f57758797c3a3ea51ea605664678",
        "trusted": true,
        "id": "HaAAyNlwCiO6"
      },
      "execution_count": 12,
      "outputs": []
    },
    {
      "cell_type": "code",
      "source": [
        "# Compile the model\n",
        "model.compile(optimizer = optimizer, loss = \"categorical_crossentropy\", metrics=[\"accuracy\"])"
      ],
      "metadata": {
        "_uuid": "0870d9f7c9cb523504fda975627006206a05fdcc",
        "trusted": true,
        "id": "ZU8NkzunCiO7"
      },
      "execution_count": 14,
      "outputs": []
    },
    {
      "cell_type": "markdown",
      "source": [
        "<a id=\"8\"></a>\n",
        "### Epochs and Batch Size"
      ],
      "metadata": {
        "_uuid": "61f30b93de33359e797e9a98ffdfb077ce443ce3",
        "id": "y2Tx9VxXCiO7"
      }
    },
    {
      "cell_type": "code",
      "source": [
        "epochs = 50 # for better result increase the epochs\n",
        "batch_size = 100"
      ],
      "metadata": {
        "_uuid": "bd9149b5e28d32c466db7dcb5c7be0d49b13616a",
        "trusted": true,
        "id": "iglTUBbdCiPA"
      },
      "execution_count": 15,
      "outputs": []
    },
    {
      "cell_type": "code",
      "source": [
        "# Data Augmentation\n",
        "datagen = ImageDataGenerator(\n",
        "        featurewise_center=False,  # set input mean to 0 over the dataset\n",
        "        samplewise_center=False,  # set each sample mean to 0\n",
        "        featurewise_std_normalization=False,  # divide inputs by std of the dataset\n",
        "        samplewise_std_normalization=False,  # divide each input by its std\n",
        "        zca_whitening=False,  # dimesion reduction\n",
        "        rotation_range=0.1,  # randomly rotate images in the range\n",
        "        zoom_range = 0.1, # Randomly zoom image\n",
        "        width_shift_range=0.1,  # randomly shift images horizontally\n",
        "        height_shift_range=0.1,  # randomly shift images vertically\n",
        "        horizontal_flip=False,  # randomly flip images\n",
        "        vertical_flip=False)  # randomly flip images\n",
        "\n",
        "datagen.fit(x_train)"
      ],
      "metadata": {
        "_uuid": "200d5d410bdbfb4610d19fe0b844afbf5f8ed0f7",
        "trusted": true,
        "id": "17sm61s5CiPA"
      },
      "execution_count": 16,
      "outputs": []
    },
    {
      "cell_type": "code",
      "source": [
        "# # save the best weights\n",
        "# checkpointer = ModelCheckpoint(filepath=\"../yourPath/fashion_mnist_model.h5\", verbose=1, save_best_only=True)"
      ],
      "metadata": {
        "_uuid": "942560519e865b5039a6bac03ae2fd073004cc65",
        "trusted": true,
        "id": "ROQx1M4ZCiPA"
      },
      "execution_count": 17,
      "outputs": []
    },
    {
      "cell_type": "code",
      "source": [
        "history = model.fit_generator(datagen.flow(x_train, y_train, batch_size=batch_size),\n",
        "                              shuffle=True, #veriler random gelip eğitilir\n",
        "                              epochs=epochs, \n",
        "                              validation_data = (x_val, y_val), \n",
        "                              steps_per_epoch=x_train.shape[0] // batch_size)\n",
        "#                               callbacks=[checkpointer]) #we save the best weights with checkpointer"
      ],
      "metadata": {
        "scrolled": true,
        "_uuid": "ad5c98d31ea4788a56f3e1cf71a16ae22cd9d4ce",
        "trusted": true,
        "colab": {
          "base_uri": "https://localhost:8080/"
        },
        "id": "VzYI00RyCiPB",
        "outputId": "836c702a-1cff-457f-9408-7c807476acb5"
      },
      "execution_count": 18,
      "outputs": [
        {
          "output_type": "stream",
          "name": "stdout",
          "text": [
            "Epoch 1/50\n",
            "540/540 [==============================] - 31s 29ms/step - loss: 0.1485 - accuracy: 0.9565 - val_loss: 0.1017 - val_accuracy: 0.9695\n",
            "Epoch 2/50\n",
            "540/540 [==============================] - 15s 28ms/step - loss: 0.0532 - accuracy: 0.9838 - val_loss: 0.0348 - val_accuracy: 0.9897\n",
            "Epoch 3/50\n",
            "540/540 [==============================] - 16s 29ms/step - loss: 0.0416 - accuracy: 0.9872 - val_loss: 0.0290 - val_accuracy: 0.9910\n",
            "Epoch 4/50\n",
            "540/540 [==============================] - 17s 31ms/step - loss: 0.0375 - accuracy: 0.9890 - val_loss: 0.0444 - val_accuracy: 0.9860\n",
            "Epoch 5/50\n",
            "540/540 [==============================] - 15s 28ms/step - loss: 0.0326 - accuracy: 0.9902 - val_loss: 0.0429 - val_accuracy: 0.9873\n",
            "Epoch 6/50\n",
            "540/540 [==============================] - 15s 28ms/step - loss: 0.0302 - accuracy: 0.9907 - val_loss: 0.0259 - val_accuracy: 0.9917\n",
            "Epoch 7/50\n",
            "540/540 [==============================] - 15s 27ms/step - loss: 0.0275 - accuracy: 0.9916 - val_loss: 0.0268 - val_accuracy: 0.9912\n",
            "Epoch 8/50\n",
            "540/540 [==============================] - 15s 28ms/step - loss: 0.0248 - accuracy: 0.9919 - val_loss: 0.0569 - val_accuracy: 0.9823\n",
            "Epoch 9/50\n",
            "540/540 [==============================] - 15s 28ms/step - loss: 0.0248 - accuracy: 0.9923 - val_loss: 0.0524 - val_accuracy: 0.9822\n",
            "Epoch 10/50\n",
            "540/540 [==============================] - 15s 28ms/step - loss: 0.0218 - accuracy: 0.9933 - val_loss: 0.0324 - val_accuracy: 0.9907\n",
            "Epoch 11/50\n",
            "540/540 [==============================] - 15s 28ms/step - loss: 0.0221 - accuracy: 0.9931 - val_loss: 0.0265 - val_accuracy: 0.9925\n",
            "Epoch 12/50\n",
            "540/540 [==============================] - 16s 29ms/step - loss: 0.0210 - accuracy: 0.9933 - val_loss: 0.0211 - val_accuracy: 0.9933\n",
            "Epoch 13/50\n",
            "540/540 [==============================] - 16s 30ms/step - loss: 0.0194 - accuracy: 0.9941 - val_loss: 0.0193 - val_accuracy: 0.9942\n",
            "Epoch 14/50\n",
            "540/540 [==============================] - 16s 29ms/step - loss: 0.0181 - accuracy: 0.9940 - val_loss: 0.0234 - val_accuracy: 0.9923\n",
            "Epoch 15/50\n",
            "540/540 [==============================] - 15s 28ms/step - loss: 0.0181 - accuracy: 0.9945 - val_loss: 0.0210 - val_accuracy: 0.9943\n",
            "Epoch 16/50\n",
            "540/540 [==============================] - 16s 30ms/step - loss: 0.0175 - accuracy: 0.9942 - val_loss: 0.0264 - val_accuracy: 0.9925\n",
            "Epoch 17/50\n",
            "540/540 [==============================] - 15s 28ms/step - loss: 0.0151 - accuracy: 0.9951 - val_loss: 0.0207 - val_accuracy: 0.9945\n",
            "Epoch 18/50\n",
            "540/540 [==============================] - 15s 28ms/step - loss: 0.0153 - accuracy: 0.9950 - val_loss: 0.0216 - val_accuracy: 0.9943\n",
            "Epoch 19/50\n",
            "540/540 [==============================] - 15s 27ms/step - loss: 0.0146 - accuracy: 0.9954 - val_loss: 0.0284 - val_accuracy: 0.9912\n",
            "Epoch 20/50\n",
            "540/540 [==============================] - 15s 28ms/step - loss: 0.0146 - accuracy: 0.9953 - val_loss: 0.0277 - val_accuracy: 0.9917\n",
            "Epoch 21/50\n",
            "540/540 [==============================] - 15s 28ms/step - loss: 0.0142 - accuracy: 0.9955 - val_loss: 0.0288 - val_accuracy: 0.9927\n",
            "Epoch 22/50\n",
            "540/540 [==============================] - 15s 28ms/step - loss: 0.0119 - accuracy: 0.9959 - val_loss: 0.0175 - val_accuracy: 0.9948\n",
            "Epoch 23/50\n",
            "540/540 [==============================] - 15s 28ms/step - loss: 0.0116 - accuracy: 0.9960 - val_loss: 0.0315 - val_accuracy: 0.9907\n",
            "Epoch 24/50\n",
            "540/540 [==============================] - 15s 28ms/step - loss: 0.0132 - accuracy: 0.9958 - val_loss: 0.0280 - val_accuracy: 0.9920\n",
            "Epoch 25/50\n",
            "540/540 [==============================] - 15s 28ms/step - loss: 0.0120 - accuracy: 0.9959 - val_loss: 0.0207 - val_accuracy: 0.9938\n",
            "Epoch 26/50\n",
            "540/540 [==============================] - 15s 28ms/step - loss: 0.0115 - accuracy: 0.9963 - val_loss: 0.0223 - val_accuracy: 0.9957\n",
            "Epoch 27/50\n",
            "540/540 [==============================] - 15s 28ms/step - loss: 0.0109 - accuracy: 0.9966 - val_loss: 0.0236 - val_accuracy: 0.9945\n",
            "Epoch 28/50\n",
            "540/540 [==============================] - 15s 28ms/step - loss: 0.0112 - accuracy: 0.9962 - val_loss: 0.0256 - val_accuracy: 0.9938\n",
            "Epoch 29/50\n",
            "540/540 [==============================] - 15s 28ms/step - loss: 0.0118 - accuracy: 0.9961 - val_loss: 0.0218 - val_accuracy: 0.9938\n",
            "Epoch 30/50\n",
            "540/540 [==============================] - 15s 28ms/step - loss: 0.0101 - accuracy: 0.9966 - val_loss: 0.0215 - val_accuracy: 0.9948\n",
            "Epoch 31/50\n",
            "540/540 [==============================] - 16s 29ms/step - loss: 0.0104 - accuracy: 0.9966 - val_loss: 0.0263 - val_accuracy: 0.9935\n",
            "Epoch 32/50\n",
            "540/540 [==============================] - 15s 28ms/step - loss: 0.0102 - accuracy: 0.9965 - val_loss: 0.0218 - val_accuracy: 0.9935\n",
            "Epoch 33/50\n",
            "540/540 [==============================] - 15s 28ms/step - loss: 0.0096 - accuracy: 0.9968 - val_loss: 0.0246 - val_accuracy: 0.9943\n",
            "Epoch 34/50\n",
            "540/540 [==============================] - 15s 28ms/step - loss: 0.0087 - accuracy: 0.9975 - val_loss: 0.0221 - val_accuracy: 0.9952\n",
            "Epoch 35/50\n",
            "540/540 [==============================] - 15s 28ms/step - loss: 0.0085 - accuracy: 0.9976 - val_loss: 0.0233 - val_accuracy: 0.9943\n",
            "Epoch 36/50\n",
            "540/540 [==============================] - 15s 28ms/step - loss: 0.0078 - accuracy: 0.9976 - val_loss: 0.0267 - val_accuracy: 0.9942\n",
            "Epoch 37/50\n",
            "540/540 [==============================] - 15s 28ms/step - loss: 0.0089 - accuracy: 0.9970 - val_loss: 0.0214 - val_accuracy: 0.9950\n",
            "Epoch 38/50\n",
            "540/540 [==============================] - 15s 27ms/step - loss: 0.0078 - accuracy: 0.9974 - val_loss: 0.0223 - val_accuracy: 0.9937\n",
            "Epoch 39/50\n",
            "540/540 [==============================] - 15s 28ms/step - loss: 0.0089 - accuracy: 0.9969 - val_loss: 0.0253 - val_accuracy: 0.9940\n",
            "Epoch 40/50\n",
            "540/540 [==============================] - 15s 28ms/step - loss: 0.0086 - accuracy: 0.9969 - val_loss: 0.0226 - val_accuracy: 0.9952\n",
            "Epoch 41/50\n",
            "540/540 [==============================] - 15s 28ms/step - loss: 0.0076 - accuracy: 0.9974 - val_loss: 0.0210 - val_accuracy: 0.9945\n",
            "Epoch 42/50\n",
            "540/540 [==============================] - 15s 27ms/step - loss: 0.0081 - accuracy: 0.9974 - val_loss: 0.0249 - val_accuracy: 0.9930\n",
            "Epoch 43/50\n",
            "540/540 [==============================] - 15s 28ms/step - loss: 0.0072 - accuracy: 0.9975 - val_loss: 0.0186 - val_accuracy: 0.9955\n",
            "Epoch 44/50\n",
            "540/540 [==============================] - 15s 28ms/step - loss: 0.0060 - accuracy: 0.9982 - val_loss: 0.0181 - val_accuracy: 0.9953\n",
            "Epoch 45/50\n",
            "540/540 [==============================] - 16s 29ms/step - loss: 0.0062 - accuracy: 0.9979 - val_loss: 0.0266 - val_accuracy: 0.9940\n",
            "Epoch 46/50\n",
            "540/540 [==============================] - 15s 28ms/step - loss: 0.0083 - accuracy: 0.9973 - val_loss: 0.0334 - val_accuracy: 0.9922\n",
            "Epoch 47/50\n",
            "540/540 [==============================] - 15s 28ms/step - loss: 0.0081 - accuracy: 0.9973 - val_loss: 0.0193 - val_accuracy: 0.9955\n",
            "Epoch 48/50\n",
            "540/540 [==============================] - 15s 28ms/step - loss: 0.0062 - accuracy: 0.9981 - val_loss: 0.0210 - val_accuracy: 0.9948\n",
            "Epoch 49/50\n",
            "540/540 [==============================] - 15s 28ms/step - loss: 0.0068 - accuracy: 0.9976 - val_loss: 0.0272 - val_accuracy: 0.9938\n",
            "Epoch 50/50\n",
            "540/540 [==============================] - 15s 28ms/step - loss: 0.0061 - accuracy: 0.9980 - val_loss: 0.0209 - val_accuracy: 0.9957\n"
          ]
        }
      ]
    },
    {
      "cell_type": "code",
      "source": [
        "# serialize model to JSON\n",
        "model_json = model.to_json()\n",
        "with open(\"model.json\", \"w\") as json_file:\n",
        "    json_file.write(model_json)\n",
        "# serialize weights to HDF5\n",
        "model.save_weights(\"model.h5\")\n",
        "print(\"Saved model to disk\")"
      ],
      "metadata": {
        "colab": {
          "base_uri": "https://localhost:8080/"
        },
        "id": "xrsRDxWLWL2O",
        "outputId": "a18b5dfa-5e39-470c-bcc7-80b3d1bb51b2"
      },
      "execution_count": 44,
      "outputs": [
        {
          "output_type": "stream",
          "name": "stdout",
          "text": [
            "Saved model to disk\n"
          ]
        }
      ]
    },
    {
      "cell_type": "code",
      "source": [
        "# load json and create model\n",
        "json_file = open('model.json', 'r')\n",
        "loaded_model_json = json_file.read()\n",
        "json_file.close()\n",
        "loaded_model = model_from_json(loaded_model_json)\n",
        "# load weights into new model\n",
        "loaded_model.load_weights(\"model.h5\")\n",
        "print(\"Loaded model from disk\")\n",
        " \n",
        "# evaluate loaded model on test data\n",
        "loaded_model.compile(loss='binary_crossentropy', optimizer='rmsprop', metrics=['accuracy'])\n",
        "score = loaded_model.evaluate(X_test,Y_test,verbose=0)\n",
        "print(\"%s: %.2f%%\" % (loaded_model.metrics_names[1], score[1]*100))"
      ],
      "metadata": {
        "_uuid": "445bf6e98ede72422415295c729484fea658919b",
        "trusted": true,
        "id": "cTLfj0-HCiPB",
        "colab": {
          "base_uri": "https://localhost:8080/"
        },
        "outputId": "734e96e3-26fc-45d5-d3bb-a8c00ea9d1a8"
      },
      "execution_count": 45,
      "outputs": [
        {
          "output_type": "stream",
          "name": "stdout",
          "text": [
            "Loaded model from disk\n",
            "accuracy: 99.52%\n"
          ]
        }
      ]
    },
    {
      "cell_type": "code",
      "source": [
        "for key in history.history.keys():\n",
        "    print(key)"
      ],
      "metadata": {
        "colab": {
          "base_uri": "https://localhost:8080/"
        },
        "id": "T0_45GEvSnIa",
        "outputId": "b34b9e2d-28a7-461d-e5aa-2ebf0e0bd805"
      },
      "execution_count": 24,
      "outputs": [
        {
          "output_type": "stream",
          "name": "stdout",
          "text": [
            "loss\n",
            "accuracy\n",
            "val_loss\n",
            "val_accuracy\n"
          ]
        }
      ]
    },
    {
      "cell_type": "code",
      "source": [
        "plt.figure(figsize=(14,5))\n",
        "plt.subplot(1, 2, 1)\n",
        "plt.suptitle('Train Results', fontsize=10)\n",
        "plt.xlabel(\"Number of Epochs\")\n",
        "plt.ylabel('Loss', fontsize=16)\n",
        "plt.plot(history.history['loss'], color='b', label='Training Loss')\n",
        "plt.plot(history.history['val_loss'], color='r', label='Validation Loss')\n",
        "plt.legend(loc='upper right')\n",
        "\n",
        "plt.subplot(1, 2, 2)\n",
        "plt.ylabel('Accuracy', fontsize=16)\n",
        "plt.plot(history.history['accuracy'], color='green', label='Training Accuracy')\n",
        "plt.plot(history.history['val_accuracy'], color='orange', label='Validation Accuracy')\n",
        "plt.legend(loc='lower right')\n",
        "plt.show()"
      ],
      "metadata": {
        "_uuid": "5608e6a2519e89a4f8fde37e6998f772b1e4f5f4",
        "trusted": true,
        "id": "jSW0JyFfCiPJ",
        "colab": {
          "base_uri": "https://localhost:8080/",
          "height": 370
        },
        "outputId": "d1e75500-7958-4eb8-dbae-aafd86adb589"
      },
      "execution_count": 25,
      "outputs": [
        {
          "output_type": "display_data",
          "data": {
            "text/plain": [
              "<Figure size 1008x360 with 2 Axes>"
            ],
            "image/png": "[encoded data removed]"
          },
          "metadata": {
            "needs_background": "light"
          }
        }
      ]
    },
    {
      "cell_type": "code",
      "source": [
        "print('Train accuracy of the model: ',history.history['accuracy'][-1])"
      ],
      "metadata": {
        "_uuid": "dda6b5a37532ceb54855c1d9ae32d6a54fd0e34e",
        "trusted": true,
        "id": "fY-f8QbvCiPJ",
        "colab": {
          "base_uri": "https://localhost:8080/"
        },
        "outputId": "14a78639-fe6d-48a8-824d-961eed6b8fb2"
      },
      "execution_count": 26,
      "outputs": [
        {
          "output_type": "stream",
          "name": "stdout",
          "text": [
            "Train accuracy of the model:  0.9979629516601562\n"
          ]
        }
      ]
    },
    {
      "cell_type": "code",
      "source": [
        "print('Train loss of the model: ',history.history['loss'][-1])"
      ],
      "metadata": {
        "_uuid": "8cd7b694506b84ad3c5f0e77b7f77a33ac41475a",
        "trusted": true,
        "id": "ndvd06sZCiPK",
        "colab": {
          "base_uri": "https://localhost:8080/"
        },
        "outputId": "1abb59d5-c664-432e-e764-db6375ac2286"
      },
      "execution_count": 27,
      "outputs": [
        {
          "output_type": "stream",
          "name": "stdout",
          "text": [
            "Train loss of the model:  0.006117587443441153\n"
          ]
        }
      ]
    },
    {
      "cell_type": "code",
      "source": [
        "print('Validation accuracy of the model: ',history.history['val_accuracy'][-1])"
      ],
      "metadata": {
        "_uuid": "98883a4317a10f4e5fbd94b9b4c7402aa01e3b5a",
        "trusted": true,
        "id": "ZR0LsS-DCiPK",
        "colab": {
          "base_uri": "https://localhost:8080/"
        },
        "outputId": "06f2f4b2-70d0-47c2-8178-780fb82571c6"
      },
      "execution_count": 29,
      "outputs": [
        {
          "output_type": "stream",
          "name": "stdout",
          "text": [
            "Validation accuracy of the model:  0.9956666827201843\n"
          ]
        }
      ]
    },
    {
      "cell_type": "code",
      "source": [
        "print('Validation loss of the model: ',history.history['val_loss'][-1])"
      ],
      "metadata": {
        "_uuid": "fa117dece3d3cc38e174ee8b5f6978d685f31e86",
        "trusted": true,
        "id": "cB5pA2LmCiPK",
        "colab": {
          "base_uri": "https://localhost:8080/"
        },
        "outputId": "9b44c541-408a-4bae-bffc-e81591c8df19"
      },
      "execution_count": 30,
      "outputs": [
        {
          "output_type": "stream",
          "name": "stdout",
          "text": [
            "Validation loss of the model:  0.020853525027632713\n"
          ]
        }
      ]
    },
    {
      "cell_type": "code",
      "source": [
        "score = model.evaluate(X_test,Y_test,verbose=0)\n",
        "print(\"Test Loss:\",score[0])\n",
        "print(\"Test Accuracy:\",score[1])"
      ],
      "metadata": {
        "_uuid": "1a45f220bc2a2e7d28958d6f48f97dd9142aa904",
        "trusted": true,
        "id": "iTS89-sqCiPK",
        "colab": {
          "base_uri": "https://localhost:8080/"
        },
        "outputId": "a2c95a41-9182-49e9-c647-9dbaa4c8f225"
      },
      "execution_count": 22,
      "outputs": [
        {
          "output_type": "stream",
          "name": "stdout",
          "text": [
            "Test Loss: 0.015288789756596088\n",
            "Test Accuracy: 0.995199978351593\n"
          ]
        }
      ]
    },
    {
      "cell_type": "code",
      "source": [
        "print(X_test.shape)\n",
        "plt.imshow(X_test[100].reshape(28,28),cmap=\"gray\")\n",
        "plt.axis(\"off\")\n",
        "plt.show()"
      ],
      "metadata": {
        "_uuid": "9d9ecc970bb26e5a24bdd5eb2565514a19940401",
        "trusted": true,
        "id": "4SM_REdLCiPK",
        "colab": {
          "base_uri": "https://localhost:8080/",
          "height": 265
        },
        "outputId": "6b6954ef-f723-413d-e19c-1a41e6fa6846"
      },
      "execution_count": 31,
      "outputs": [
        {
          "output_type": "stream",
          "name": "stdout",
          "text": [
            "(10000, 28, 28, 1)\n"
          ]
        },
        {
          "output_type": "display_data",
          "data": {
            "text/plain": [
              "<Figure size 432x288 with 1 Axes>"
            ],
            "image/png": "[encoded data removed]"
          },
          "metadata": {
            "needs_background": "light"
          }
        }
      ]
    },
    {
      "cell_type": "code",
      "source": [
        "trueY = Y_test[100]\n",
        "img = X_test[100]\n",
        "test_img = img.reshape(1,28,28,1)\n",
        "\n",
        "preds=model.predict(test_img)\n",
        "\n",
        "prob=np.argmax(preds,axis=1)\n",
        "\n",
        "\n",
        "\n",
        "print(\"trueY: \",np.argmax(trueY))#içlerinden en yüksek olan değeri seçer\n",
        "print(\"Preds: \",preds)\n",
        "print(\"Prob: \",prob)"
      ],
      "metadata": {
        "_uuid": "fa6bdbb341f866317d3b03f1fc5f8cb884dcb0ed",
        "trusted": true,
        "id": "60guvzYoCiPL",
        "colab": {
          "base_uri": "https://localhost:8080/"
        },
        "outputId": "1c9b1f04-082f-4513-c128-c2476863a6bb"
      },
      "execution_count": 34,
      "outputs": [
        {
          "output_type": "stream",
          "name": "stdout",
          "text": [
            "trueY:  6\n",
            "Preds:  [[1.3081664e-09 1.0554701e-21 3.0200133e-18 5.6057024e-17 4.9993943e-17\n",
            "  2.4910612e-14 1.0000000e+00 6.3996720e-23 8.2270631e-12 1.2462697e-13]]\n",
            "Prob:  [6]\n"
          ]
        }
      ]
    },
    {
      "cell_type": "code",
      "source": [
        "Y_pred = model.predict(X_test)\n",
        "Y_pred_classes = np.argmax(Y_pred, axis = 1)\n",
        "Y_true = np.argmax(Y_test, axis = 1)\n",
        "confusion_mtx = confusion_matrix(Y_true, Y_pred_classes) \n",
        "\n",
        "f,ax = plt.subplots(figsize = (12,12))\n",
        "sns.heatmap(confusion_mtx, annot=True, linewidths=0.1, cmap = \"gist_yarg_r\", linecolor=\"black\", fmt='.0f', ax=ax)\n",
        "plt.xlabel(\"Predicted Label\")\n",
        "plt.ylabel(\"True Label\")\n",
        "plt.title(\"Confusion Matrix\")\n",
        "plt.show()"
      ],
      "metadata": {
        "_uuid": "28e22010e8082ac9d6cf9a305bc9583aea1bb562",
        "trusted": true,
        "id": "gid7hwbjCiPM",
        "colab": {
          "base_uri": "https://localhost:8080/",
          "height": 730
        },
        "outputId": "ecba60ed-0216-4b0b-a418-aad94b2d38c3"
      },
      "execution_count": 36,
      "outputs": [
        {
          "output_type": "display_data",
          "data": {
            "text/plain": [
              "<Figure size 864x864 with 2 Axes>"
            ],
            "image/png": "[encoded data removed]"
          },
          "metadata": {
            "needs_background": "light"
          }
        }
      ]
    },
    {
      "cell_type": "code",
      "source": [
        "for i in range(len(confusion_mtx)):\n",
        "    print(\"Class:\",str(i))\n",
        "    print(\"Number of Wrong Prediction:\", str(sum(confusion_mtx[i])-confusion_mtx[i][i]), \"out of 1000\")\n",
        "    print(\"Percentage of True Prediction: {:.2f}%\".format(confusion_mtx[i][i] / 10))\n",
        "    print(\"***********************************************************\")"
      ],
      "metadata": {
        "_uuid": "45dfe20b60489778caaa049d3b36831f3b3e285c",
        "scrolled": true,
        "trusted": true,
        "id": "J8bWtAokCiPO",
        "colab": {
          "base_uri": "https://localhost:8080/"
        },
        "outputId": "8fb5b81b-d9bc-4896-ccc8-67454ace5cb1"
      },
      "execution_count": 37,
      "outputs": [
        {
          "output_type": "stream",
          "name": "stdout",
          "text": [
            "Class: 0\n",
            "Number of Wrong Prediction: 1 out of 1000\n",
            "Percentage of True Prediction: 97.90%\n",
            "***********************************************************\n",
            "Class: 1\n",
            "Number of Wrong Prediction: 5 out of 1000\n",
            "Percentage of True Prediction: 113.00%\n",
            "***********************************************************\n",
            "Class: 2\n",
            "Number of Wrong Prediction: 10 out of 1000\n",
            "Percentage of True Prediction: 102.20%\n",
            "***********************************************************\n",
            "Class: 3\n",
            "Number of Wrong Prediction: 2 out of 1000\n",
            "Percentage of True Prediction: 100.80%\n",
            "***********************************************************\n",
            "Class: 4\n",
            "Number of Wrong Prediction: 5 out of 1000\n",
            "Percentage of True Prediction: 97.70%\n",
            "***********************************************************\n",
            "Class: 5\n",
            "Number of Wrong Prediction: 7 out of 1000\n",
            "Percentage of True Prediction: 88.50%\n",
            "***********************************************************\n",
            "Class: 6\n",
            "Number of Wrong Prediction: 10 out of 1000\n",
            "Percentage of True Prediction: 94.80%\n",
            "***********************************************************\n",
            "Class: 7\n",
            "Number of Wrong Prediction: 5 out of 1000\n",
            "Percentage of True Prediction: 102.30%\n",
            "***********************************************************\n",
            "Class: 8\n",
            "Number of Wrong Prediction: 1 out of 1000\n",
            "Percentage of True Prediction: 97.30%\n",
            "***********************************************************\n",
            "Class: 9\n",
            "Number of Wrong Prediction: 2 out of 1000\n",
            "Percentage of True Prediction: 100.70%\n",
            "***********************************************************\n"
          ]
        }
      ]
    }
  ]
}